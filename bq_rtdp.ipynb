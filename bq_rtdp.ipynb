{
 "cells": [
  {
   "cell_type": "code",
   "execution_count": 1,
   "metadata": {},
   "outputs": [
    {
     "ename": "ImportError",
     "evalue": "/home/nishadgothoskar/.local/lib/python2.7/site-packages/bayesian_quadrature/linalg_c.so: undefined symbol: clapack_dpotrf",
     "output_type": "error",
     "traceback": [
      "\u001b[0;31m---------------------------------------------------------------------------\u001b[0m",
      "\u001b[0;31mImportError\u001b[0m                               Traceback (most recent call last)",
      "\u001b[0;32m/home/nishadgothoskar/Documents/simple-RL/gp_rtdp_bq.py\u001b[0m in \u001b[0;36m<module>\u001b[0;34m()\u001b[0m\n\u001b[1;32m      7\u001b[0m \u001b[0;32mimport\u001b[0m \u001b[0mscipy\u001b[0m\u001b[0;34m.\u001b[0m\u001b[0mstats\u001b[0m\u001b[0;34m\u001b[0m\u001b[0m\n\u001b[1;32m      8\u001b[0m \u001b[0;32mimport\u001b[0m \u001b[0mscipy\u001b[0m\u001b[0;34m.\u001b[0m\u001b[0moptimize\u001b[0m \u001b[0;32mas\u001b[0m \u001b[0moptim\u001b[0m\u001b[0;34m\u001b[0m\u001b[0m\n\u001b[0;32m----> 9\u001b[0;31m \u001b[0;32mfrom\u001b[0m \u001b[0mbayesian_quadrature\u001b[0m \u001b[0;32mimport\u001b[0m \u001b[0mBQ\u001b[0m\u001b[0;34m\u001b[0m\u001b[0m\n\u001b[0m\u001b[1;32m     10\u001b[0m \u001b[0;32mfrom\u001b[0m \u001b[0mgp\u001b[0m \u001b[0;32mimport\u001b[0m \u001b[0mGaussianKernel\u001b[0m\u001b[0;34m\u001b[0m\u001b[0m\n\u001b[1;32m     11\u001b[0m \u001b[0;32mimport\u001b[0m \u001b[0mmath\u001b[0m\u001b[0;34m\u001b[0m\u001b[0m\n",
      "\u001b[0;32m/home/nishadgothoskar/.local/lib/python2.7/site-packages/bayesian_quadrature/__init__.py\u001b[0m in \u001b[0;36m<module>\u001b[0;34m()\u001b[0m\n\u001b[1;32m      6\u001b[0m \u001b[0;34m\u001b[0m\u001b[0m\n\u001b[1;32m      7\u001b[0m \u001b[0;34m\u001b[0m\u001b[0m\n\u001b[0;32m----> 8\u001b[0;31m \u001b[0;32mfrom\u001b[0m \u001b[0mbq\u001b[0m \u001b[0;32mimport\u001b[0m \u001b[0mBQ\u001b[0m\u001b[0;34m\u001b[0m\u001b[0m\n\u001b[0m\u001b[1;32m      9\u001b[0m \u001b[0m__all__\u001b[0m \u001b[0;34m=\u001b[0m \u001b[0;34m[\u001b[0m\u001b[0;34m'BQ'\u001b[0m\u001b[0;34m]\u001b[0m\u001b[0;34m\u001b[0m\u001b[0m\n",
      "\u001b[0;32m/home/nishadgothoskar/.local/lib/python2.7/site-packages/bayesian_quadrature/bq.py\u001b[0m in \u001b[0;36m<module>\u001b[0;34m()\u001b[0m\n\u001b[1;32m      7\u001b[0m \u001b[0;32mfrom\u001b[0m \u001b[0mgp\u001b[0m \u001b[0;32mimport\u001b[0m \u001b[0mGP\u001b[0m\u001b[0;34m,\u001b[0m \u001b[0mGaussianKernel\u001b[0m\u001b[0;34m,\u001b[0m \u001b[0mPeriodicKernel\u001b[0m\u001b[0;34m\u001b[0m\u001b[0m\n\u001b[1;32m      8\u001b[0m \u001b[0;34m\u001b[0m\u001b[0m\n\u001b[0;32m----> 9\u001b[0;31m \u001b[0;32mfrom\u001b[0m \u001b[0;34m.\u001b[0m \u001b[0;32mimport\u001b[0m \u001b[0mbq_c\u001b[0m\u001b[0;34m\u001b[0m\u001b[0m\n\u001b[0m\u001b[1;32m     10\u001b[0m \u001b[0;32mfrom\u001b[0m \u001b[0;34m.\u001b[0m \u001b[0;32mimport\u001b[0m \u001b[0mlinalg_c\u001b[0m \u001b[0;32mas\u001b[0m \u001b[0mla\u001b[0m\u001b[0;34m\u001b[0m\u001b[0m\n\u001b[1;32m     11\u001b[0m \u001b[0;32mfrom\u001b[0m \u001b[0;34m.\u001b[0m \u001b[0;32mimport\u001b[0m \u001b[0mutil\u001b[0m\u001b[0;34m\u001b[0m\u001b[0m\n",
      "\u001b[0;32mbayesian_quadrature/bq_c.pyx\u001b[0m in \u001b[0;36minit bayesian_quadrature.bq_c\u001b[0;34m()\u001b[0m\n",
      "\u001b[0;31mImportError\u001b[0m: /home/nishadgothoskar/.local/lib/python2.7/site-packages/bayesian_quadrature/linalg_c.so: undefined symbol: clapack_dpotrf"
     ]
    }
   ],
   "source": [
    "run \"gp_rtdp_bq.py\""
   ]
  },
  {
   "cell_type": "code",
   "execution_count": 29,
   "metadata": {},
   "outputs": [
    {
     "data": {
      "image/png": "[encoded data removed]",
      "text/plain": [
       "<Figure size 432x288 with 1 Axes>"
      ]
     },
     "metadata": {},
     "output_type": "display_data"
    }
   ],
   "source": [
    "import matplotlib.pyplot as plt\n",
    "import matplotlib.colors as colors\n",
    "\n",
    "rx = [0,30]\n",
    "ry = [0,30]\n",
    "a = np.full((rx[1]-rx[0],ry[1]-ry[0]),0.0)\n",
    "for i in range(rx[0],rx[1]):\n",
    "    for j in range(ry[0],ry[1]):\n",
    "        a[i-rx[0],j-ry[0]] = p.VPGS[-1][0].predict(np.array([[i,j]]))[0][0][0]\n",
    "if a.min()< 0:\n",
    "    a += -(a.min())\n",
    "a+=.001\n",
    "plt.imshow(a, cmap='hot',  norm=colors.LogNorm(vmin=a.min(), vmax=a.max()), interpolation='nearest')\n",
    "# l =  p.VPGS[-1][1].keys()\n",
    "# pl.plot([i[0] for i in l], [i[1] for i in l], 'ro')\n",
    "plt.show()"
   ]
  },
  {
   "cell_type": "code",
   "execution_count": 32,
   "metadata": {},
   "outputs": [
    {
     "name": "stdout",
     "output_type": "stream",
     "text": [
      "51\n"
     ]
    }
   ],
   "source": [
    "path = p.testValueFunction(p.VPGS[-1][0],29.0,29.0,200)"
   ]
  },
  {
   "cell_type": "code",
   "execution_count": 34,
   "metadata": {},
   "outputs": [
    {
     "data": {
      "image/png": "[encoded data removed]",
      "text/plain": [
       "<Figure size 432x288 with 1 Axes>"
      ]
     },
     "metadata": {},
     "output_type": "display_data"
    }
   ],
   "source": [
    "import numpy as np\n",
    "import pylab as pl\n",
    "from matplotlib import collections  as mc\n",
    "import matplotlib.patches as patches\n",
    "lines = []\n",
    "for i in xrange(len(path)-1):\n",
    "    lines.append([path[i],path[i+1]])\n",
    "\n",
    "rect = patches.Rectangle((5,5),5,20,linewidth=1,edgecolor='r',facecolor='none')\n",
    "rect2 = patches.Rectangle((15,10),10,5,linewidth=1,edgecolor='r',facecolor='none')\n",
    "rect3 = patches.Rectangle((20,20),5,5,linewidth=1,edgecolor='r',facecolor='none')\n",
    "\n",
    "\n",
    "lc = mc.LineCollection(lines,linewidths=2)\n",
    "fig, ax = pl.subplots()\n",
    "# pl.plot([i[0] for i in l], [i[1] for i in l], 'ro')\n",
    "ax.add_patch(rect)\n",
    "ax.add_patch(rect2)\n",
    "ax.add_patch(rect3)\n",
    "ax.add_collection(lc)\n",
    "ax.autoscale()\n",
    "ax.invert_yaxis()\n",
    "ax.margins(0.1)"
   ]
  },
  {
   "cell_type": "code",
   "execution_count": null,
   "metadata": {},
   "outputs": [],
   "source": []
  }
 ],
 "metadata": {
  "kernelspec": {
   "display_name": "Python 2",
   "language": "python",
   "name": "python2"
  },
  "language_info": {
   "codemirror_mode": {
    "name": "ipython",
    "version": 2
   },
   "file_extension": ".py",
   "mimetype": "text/x-python",
   "name": "python",
   "nbconvert_exporter": "python",
   "pygments_lexer": "ipython2",
   "version": "2.7.15rc1"
  }
 },
 "nbformat": 4,
 "nbformat_minor": 2
}
