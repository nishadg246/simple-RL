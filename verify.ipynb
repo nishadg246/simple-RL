{
 "cells": [
  {
   "cell_type": "code",
   "execution_count": 1,
   "metadata": {},
   "outputs": [],
   "source": [
    "import numpy as np\n",
    "from sklearn.gaussian_process import GaussianProcessRegressor\n",
    "import scipy\n",
    "from scipy.linalg import cholesky, cho_solve, solve_triangular\n",
    "from sklearn.gaussian_process.kernels import RBF, ConstantKernel as C\n",
    "import matplotlib.pyplot as plt\n",
    "import scipy.integrate as integrate\n",
    "import GPy as gpy\n",
    "import scipy.integrate as integrate\n"
   ]
  },
  {
   "cell_type": "code",
   "execution_count": null,
   "metadata": {},
   "outputs": [],
   "source": []
  },
  {
   "cell_type": "code",
   "execution_count": 6,
   "metadata": {},
   "outputs": [
    {
     "data": {
      "image/png": "[encoded data removed]",
      "text/plain": [
       "<matplotlib.figure.Figure at 0x10cc577d0>"
      ]
     },
     "metadata": {},
     "output_type": "display_data"
    }
   ],
   "source": [
    "def sample_function(x_range, N=100, seed=4):\n",
    "#     np.random.seed(seed)\n",
    "    dx = x_range.shape[1]\n",
    "    k = gpy.kern.src.rbf.RBF(input_dim=dx,lengthscale=0.1)\n",
    "    x = np.random.uniform(x_range[0], x_range[1], (N, dx))\n",
    "    cov = k.K(x, x)\n",
    "#     mean = gpy.mappings.Linear(dx, 1)\n",
    "    mu = np.zeros(x.shape)\n",
    "    y = np.random.multivariate_normal(np.squeeze(mu), cov)[:, None]\n",
    "    #import pdb; pdb.set_trace()\n",
    "    m = gpy.models.GPRegression(x, y, k)#, mean_function=mean)\n",
    "    m.likelihood.variance = 0.01\n",
    "\n",
    "    def f(x): return m.predict(x)[0]\n",
    "    return f\n",
    "x_range = np.array([[0.], [1.]])\n",
    "f = sample_function(x_range)\n",
    "\n",
    "def plot_f(f):\n",
    "    xx = np.linspace(-0.1, 1.1, 1000).reshape(1000, 1)\n",
    "    yy = f(xx)\n",
    "    plt.plot(xx, yy, 'r', lw=2)\n",
    "    plt.xlim(-0.1, 1.1)\n",
    "    plt.show()\n",
    "plot_f(f)\n",
    "\n",
    "def plot(m):\n",
    "    xx = np.linspace(-5.0, 5.0, 300).reshape(300, 1)\n",
    "    mean, std = m.predict(xx,return_std=True)\n",
    "    mean = mean[:,0]\n",
    "    plt.plot(xx, mean, 'r', lw=2)\n",
    "    plt.fill_between(xx[:, 0],\n",
    "                     mean - std**2,\n",
    "                     mean + std**2,\n",
    "                     color='r', alpha=0.2)\n",
    "    plt.xlim(-5.0, 5.0)"
   ]
  },
  {
   "cell_type": "code",
   "execution_count": 7,
   "metadata": {},
   "outputs": [
    {
     "name": "stdout",
     "output_type": "stream",
     "text": [
      "[[0.]\n",
      " [1.]] [[-0.63806738]\n",
      " [ 0.81896818]]\n"
     ]
    },
    {
     "data": {
      "image/png": "[encoded data removed]",
      "text/plain": [
       "<matplotlib.figure.Figure at 0x10cb68c50>"
      ]
     },
     "metadata": {},
     "output_type": "display_data"
    }
   ],
   "source": [
    "# k = GPy.kern.src.rbf.RBF(input_dim=1,lengthscale=0.1)\n",
    "kernel = RBF(1.0, (1e-2, 1e2))\n",
    "x = np.array([[0.0],[1.0]])\n",
    "y = f(x)\n",
    "gp = GaussianProcessRegressor(kernel=kernel, n_restarts_optimizer=9,optimizer=None)\n",
    "gp.fit(x,y)\n",
    "plot(gp)\n",
    "print x,y\n"
   ]
  },
  {
   "cell_type": "code",
   "execution_count": 8,
   "metadata": {},
   "outputs": [
    {
     "name": "stdout",
     "output_type": "stream",
     "text": [
      "[[-0.22296411]] [0.02096526]\n",
      "[[-0.22296411]]\n",
      "[[0.02096526]]\n"
     ]
    }
   ],
   "source": [
    "u,v = gp.predict(0.3,return_std=True)\n",
    "print u, v**2\n",
    "\n",
    "def get_mean_func(gp):\n",
    "    def f(x):\n",
    "        Kxpx = gp.kernel_(np.array([[x]]),gp.X_train_)\n",
    "        return np.dot(Kxpx,gp.alpha_)\n",
    "    return f\n",
    "\n",
    "def get_cov_func(gp):\n",
    "    def f(x,y):\n",
    "        Kxx = gp.kernel_(np.array([[x]]),np.array([[y]]))\n",
    "        Kxxx = gp.kernel_(np.array([[x]]),gp.X_train_)\n",
    "        Kyxx = gp.kernel_(gp.X_train_,np.array([[y]]))\n",
    "        return Kxx - Kxxx*gp.kernel_(gp.X_train_,gp.X_train_)*Kyxx\n",
    "    return lambda x,y: f(x,y)\n",
    "\n",
    "cov1 = lambda x,y: gp.kernel_(np.array([[x]]),np.array([[y]]))\n",
    "cov2 = (lambda x,y: gp.kernel_(np.array([x]),gp.X_train_).dot(cho_solve((gp.L_, True), gp.kernel_(gp.X_train_,np.array([[y]])))))\n",
    "# x = 0.3\n",
    "# print gp.kernel_(np.array([[x]]),np.array([[0.0]]))\n",
    "\n",
    "# def test_cov(gp):\n",
    "#     def f(x):\n",
    "#         print x\n",
    "#         gp.kernel_(np.array([[x]]),np.array([[0.0]]))*gp.kernel_(gp.X_train_,gp.X_train_)*gp.kernel_(np.array([[0.0]]),np.array([[y]]))*normal(x)*normal(y)\n",
    "#     return f\n",
    "print get_mean_func(gp)(0.3)\n",
    "# print get_cov_func(gp)(0.3,0.0)\n",
    "print cov1(0.3,0.3) - cov2(0.3,0.3)\n",
    "# print gp.kernel_(np.array([0.3]),gp.X_train_)\n",
    "\n",
    "# print ((1.0**2 +2.0**2)/(1.0**2))**(-0.5)\n",
    "# print 0.4472135954999581 * gp.alpha_"
   ]
  },
  {
   "cell_type": "code",
   "execution_count": 9,
   "metadata": {},
   "outputs": [
    {
     "name": "stdout",
     "output_type": "stream",
     "text": [
      "Mean Numerical Integration\n",
      "(-0.016304578529177532, 5.474564547100297e-09)\n",
      "(0.3002628945129215, 2.286507609985944e-09) (0.19258192119028325, 5.28540211597317e-10)\n",
      "0.107680973323\n"
     ]
    }
   ],
   "source": [
    "def normal(s):\n",
    "    return scipy.stats.norm(0.0, np.sqrt(5.0)).pdf(s)\n",
    "\n",
    "print \"Mean Numerical Integration\"\n",
    "print integrate.quad(lambda x: gp.predict(x,return_std=True)[0][0]*normal(x),np.NINF,np.inf)\n",
    "# print integrate.quad(lambda x: gp.kernel_(np.array([[x]]),np.array([[0.0]]))*normal(x),np.NINF,np.inf)\n",
    "# print \"Var Numerical Integration\"\n",
    "# print integrate.quad(lambda x: gp.predict(x,return_std=True)[1][0]*normal(x),np.NINF,np.inf)\n",
    "# print \"other\"\n",
    "# print integrate.quad(lambda x: gp.kernel_(np.array([[x]]),np.array([[0.0]]))*normal(x),np.NINF,np.inf)\n",
    "c1 = integrate.dblquad(lambda x,y: cov1(x,y)*normal(x)*normal(y),-5.0,5.0, lambda x: -5.0, lambda x: 5.0)\n",
    "c2 = integrate.dblquad(lambda x,y: cov2(x,y)*normal(x)*normal(y),-5.0,5.0, lambda x: -5.0, lambda x: 5.0)\n",
    "print c1,c2\n",
    "print c1[0] - c2[0]\n",
    "# print integrate.dblquad(lambda x,y: get_cov_func(gp)(x,y)*normal(x)*normal(y),-5.0,5.0, lambda x: -5.0, lambda x: 5.0)\n",
    "\n",
    "# Mean Numerical Integration\n",
    "# (0.09950371901104851, 8.07137139656537e-09)\n",
    "# Var Numerical Integration\n",
    "# (0.9499497153837378, 1.0189813132515364e-08)\n",
    "# other\n",
    "# (0.9645737664686658, 1.4874928277555785e-08)\n"
   ]
  },
  {
   "cell_type": "code",
   "execution_count": 10,
   "metadata": {},
   "outputs": [
    {
     "data": {
      "text/plain": [
       "(-0.016304578529177438, 0.1089290322580842)"
      ]
     },
     "execution_count": 10,
     "metadata": {},
     "output_type": "execute_result"
    }
   ],
   "source": [
    "b = np.array([0.0])\n",
    "B = np.array([[5.0]])\n",
    "def bintegrate(gp,b,B):\n",
    "    n,dim = gp.X_train_.shape\n",
    "    length_scale = gp.kernel_.length_scale\n",
    "    A = length_scale** 2 * np.diag(np.ones(dim))\n",
    "    I = np.identity(dim)    \n",
    "    X = gp.X_train_\n",
    "    z = np.zeros((n, 1))\n",
    "    determ = np.linalg.det(np.dot(np.linalg.inv(A), B) + I) ** (-0.5)\n",
    "    abinv = np.linalg.inv(A + B)\n",
    "    for i in range(n):\n",
    "        x = X[i, :]\n",
    "        expon = np.exp(-0.5 * np.dot(np.dot((x - b), abinv), (x - b).T))\n",
    "        z[i, :] = determ * expon\n",
    "    mean = (z.T).dot(cho_solve((gp.L_, True), gp.y_train_))\n",
    "    \n",
    "    var_determ = np.linalg.det(2*np.dot(np.linalg.inv(A), B) + I) ** (-0.5)\n",
    "#     print var_determ\n",
    "#     print np.dot(z.T, cho_solve((gp.L_, True), z))\n",
    "    var = var_determ - np.dot(z.T, cho_solve((gp.L_, True), z))\n",
    "    return mean[0][0], var[0][0]\n",
    "bintegrate(gp,b,B)"
   ]
  },
  {
   "cell_type": "code",
   "execution_count": 447,
   "metadata": {},
   "outputs": [
    {
     "data": {
      "text/plain": [
       "401.00000000000006"
      ]
     },
     "execution_count": 447,
     "metadata": {},
     "output_type": "execute_result"
    }
   ],
   "source": []
  },
  {
   "cell_type": "code",
   "execution_count": 80,
   "metadata": {},
   "outputs": [],
   "source": [
    "a = gpy.mappings.Linear(dx, 1)"
   ]
  },
  {
   "cell_type": "code",
   "execution_count": 327,
   "metadata": {},
   "outputs": [
    {
     "data": {
      "text/plain": [
       "array([[1.]])"
      ]
     },
     "execution_count": 327,
     "metadata": {},
     "output_type": "execute_result"
    }
   ],
   "source": [
    "gp.kernel_(gp.X_train_,gp.X_train_)"
   ]
  },
  {
   "cell_type": "code",
   "execution_count": null,
   "metadata": {},
   "outputs": [],
   "source": []
  }
 ],
 "metadata": {
  "kernelspec": {
   "display_name": "Python 2",
   "language": "python",
   "name": "python2"
  },
  "language_info": {
   "codemirror_mode": {
    "name": "ipython",
    "version": 2
   },
   "file_extension": ".py",
   "mimetype": "text/x-python",
   "name": "python",
   "nbconvert_exporter": "python",
   "pygments_lexer": "ipython2",
   "version": "2.7.10"
  }
 },
 "nbformat": 4,
 "nbformat_minor": 2
}
