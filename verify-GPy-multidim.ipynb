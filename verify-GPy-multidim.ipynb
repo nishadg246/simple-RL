{
 "cells": [
  {
   "cell_type": "code",
   "execution_count": 2,
   "metadata": {},
   "outputs": [],
   "source": [
    "import numpy as np\n",
    "from sklearn.gaussian_process import GaussianProcessRegressor\n",
    "import scipy\n",
    "from scipy.linalg import cholesky, cho_solve, solve_triangular\n",
    "from sklearn.gaussian_process.kernels import RBF, ConstantKernel as C\n",
    "import matplotlib.pyplot as plt\n",
    "import scipy.integrate as integrate\n",
    "import GPy as gpy\n",
    "import GPy\n",
    "import scipy.integrate as integrate\n"
   ]
  },
  {
   "cell_type": "code",
   "execution_count": 3,
   "metadata": {},
   "outputs": [],
   "source": [
    "def normal(s):\n",
    "    return scipy.stats.norm(0.0, np.sqrt(1.0)).pdf(s)"
   ]
  },
  {
   "cell_type": "code",
   "execution_count": 6,
   "metadata": {},
   "outputs": [],
   "source": [
    "DIM = 4\n",
    "LSCALE = 0.5\n",
    "def sample_function(x_range, N=1000, seed=4):\n",
    "#     np.random.seed(seed)\n",
    "    dx = x_range.shape[1]\n",
    "    k = gpy.kern.src.rbf.RBF(input_dim=dx,lengthscale=LSCALE)\n",
    "    x = np.random.uniform(x_range[0], x_range[1], (N, dx))\n",
    "    cov = k.K(x, x)\n",
    "    mu = np.zeros(x.shape[0])\n",
    "#     y = np.atleast_2d(normal(x[:,1])).T\n",
    "    y = np.random.multivariate_normal(np.squeeze(mu), cov)[:, None]\n",
    "    m = gpy.models.GPRegression(x, y, k)#, mean_function=mean)\n",
    "    m.likelihood.variance = 0.0\n",
    "\n",
    "    def f(x): return m.predict(x)[0]\n",
    "    return f,m,x\n",
    "\n",
    "x_range = np.array([[-6.0,-6.0,-6.0,-6.0], [6.0,6.0,6.0,6.0]])\n",
    "f,m,x = sample_function(x_range)\n",
    "# m.plot()"
   ]
  },
  {
   "cell_type": "code",
   "execution_count": 7,
   "metadata": {},
   "outputs": [
    {
     "name": "stdout",
     "output_type": "stream",
     "text": [
      "(5, 4)\n",
      "0.0008362498874322577 -0.36907776468594083\n"
     ]
    }
   ],
   "source": [
    "# k = GPy.kern.src.rbf.RBF(input_dim=1,lengthscale=0.1)\n",
    "# kernel = RBF(1.0, (1e-2, 1e2))\n",
    "# x = np.random.normal(0,4,(5,2))\n",
    "x = np.random.uniform(x_range[0], x_range[1], (5, DIM))\n",
    "print x.shape\n",
    "y = f(x)\n",
    "gp = GPy.models.GPRegression(x, y, GPy.kern.src.rbf.RBF(input_dim=DIM,lengthscale=LSCALE),noise_var=0.0)\n",
    "# gp.plot()\n",
    "print y.max(),y.min()"
   ]
  },
  {
   "cell_type": "code",
   "execution_count": 10,
   "metadata": {},
   "outputs": [
    {
     "name": "stdout",
     "output_type": "stream",
     "text": [
      "[[-8.64347145e-14]] [[1.]]\n",
      "[[-8.64347145e-14]]\n",
      "[[1.]]\n"
     ]
    }
   ],
   "source": [
    "x = np.array([[0.3,0.3,0.3,0.3]])\n",
    "u,v = gp.predict(x)\n",
    "print u, v\n",
    "\n",
    "def get_mean_func(gp):\n",
    "    def f(x):\n",
    "        Kxpx = gp.kern.K(x,gp.X)\n",
    "        return np.dot(Kxpx,gp.posterior.woodbury_vector)\n",
    "    return f\n",
    "\n",
    "def get_cov_func(gp):\n",
    "    def f(x,y):\n",
    "        Kxy = gp.kern.K(x,y)\n",
    "        K1 = gp.kern.K(x,gp.X)\n",
    "        K2 = gp.kern.K(gp.X,y)\n",
    "        return Kxy - K1.dot(gp.posterior.woodbury_inv.dot(K2))\n",
    "    return lambda x,y: f(x,y)\n",
    "\n",
    "# cov1 = lambda x,y: gp.kern.K(np.array([[x]]),np.array([[y]]))\n",
    "# cov2 = (lambda x,y: gp.kern.K(np.array([[x]]),gp.X).dot(gp.posterior.woodbury_inv.dot(gp.kern.K(gp.X,np.array([[y]])))))\n",
    "print get_mean_func(gp)(x)\n",
    "print get_cov_func(gp)(x,x)"
   ]
  },
  {
   "cell_type": "code",
   "execution_count": 84,
   "metadata": {},
   "outputs": [
    {
     "ename": "ValueError",
     "evalue": "shapes (3,3) and (1,1) not aligned: 3 (dim 1) != 1 (dim 0)",
     "output_type": "error",
     "traceback": [
      "\u001b[0;31m---------------------------------------------------------------------------\u001b[0m",
      "\u001b[0;31mValueError\u001b[0m                                Traceback (most recent call last)",
      "\u001b[0;32m<ipython-input-84-5fc9471e9454>\u001b[0m in \u001b[0;36m<module>\u001b[0;34m()\u001b[0m\n\u001b[1;32m     19\u001b[0m     \u001b[0mvar\u001b[0m \u001b[0;34m=\u001b[0m \u001b[0mvar_determ\u001b[0m \u001b[0;34m-\u001b[0m \u001b[0mnp\u001b[0m\u001b[0;34m.\u001b[0m\u001b[0mdot\u001b[0m\u001b[0;34m(\u001b[0m\u001b[0mz\u001b[0m\u001b[0;34m.\u001b[0m\u001b[0mT\u001b[0m\u001b[0;34m,\u001b[0m \u001b[0mgp\u001b[0m\u001b[0;34m.\u001b[0m\u001b[0mposterior\u001b[0m\u001b[0;34m.\u001b[0m\u001b[0mwoodbury_inv\u001b[0m\u001b[0;34m.\u001b[0m\u001b[0mdot\u001b[0m\u001b[0;34m(\u001b[0m\u001b[0mz\u001b[0m\u001b[0;34m)\u001b[0m\u001b[0;34m)\u001b[0m\u001b[0;34m\u001b[0m\u001b[0m\n\u001b[1;32m     20\u001b[0m     \u001b[0;32mreturn\u001b[0m \u001b[0mmean\u001b[0m\u001b[0;34m[\u001b[0m\u001b[0;36m0\u001b[0m\u001b[0;34m]\u001b[0m\u001b[0;34m[\u001b[0m\u001b[0;36m0\u001b[0m\u001b[0;34m]\u001b[0m\u001b[0;34m,\u001b[0m \u001b[0mvar\u001b[0m\u001b[0;34m[\u001b[0m\u001b[0;36m0\u001b[0m\u001b[0;34m]\u001b[0m\u001b[0;34m[\u001b[0m\u001b[0;36m0\u001b[0m\u001b[0;34m]\u001b[0m\u001b[0;34m\u001b[0m\u001b[0m\n\u001b[0;32m---> 21\u001b[0;31m \u001b[0mbintegrate\u001b[0m\u001b[0;34m(\u001b[0m\u001b[0mm\u001b[0m\u001b[0;34m,\u001b[0m\u001b[0mb\u001b[0m\u001b[0;34m,\u001b[0m\u001b[0mB\u001b[0m\u001b[0;34m)\u001b[0m\u001b[0;34m\u001b[0m\u001b[0m\n\u001b[0m",
      "\u001b[0;32m<ipython-input-84-5fc9471e9454>\u001b[0m in \u001b[0;36mbintegrate\u001b[0;34m(gp, b, B)\u001b[0m\n\u001b[1;32m      8\u001b[0m     \u001b[0mX\u001b[0m \u001b[0;34m=\u001b[0m \u001b[0mgp\u001b[0m\u001b[0;34m.\u001b[0m\u001b[0mX\u001b[0m\u001b[0;34m\u001b[0m\u001b[0m\n\u001b[1;32m      9\u001b[0m     \u001b[0mz\u001b[0m \u001b[0;34m=\u001b[0m \u001b[0mnp\u001b[0m\u001b[0;34m.\u001b[0m\u001b[0mzeros\u001b[0m\u001b[0;34m(\u001b[0m\u001b[0;34m(\u001b[0m\u001b[0mn\u001b[0m\u001b[0;34m,\u001b[0m \u001b[0;36m1\u001b[0m\u001b[0;34m)\u001b[0m\u001b[0;34m)\u001b[0m\u001b[0;34m\u001b[0m\u001b[0m\n\u001b[0;32m---> 10\u001b[0;31m     \u001b[0mdeterm\u001b[0m \u001b[0;34m=\u001b[0m \u001b[0mnp\u001b[0m\u001b[0;34m.\u001b[0m\u001b[0mlinalg\u001b[0m\u001b[0;34m.\u001b[0m\u001b[0mdet\u001b[0m\u001b[0;34m(\u001b[0m\u001b[0mnp\u001b[0m\u001b[0;34m.\u001b[0m\u001b[0mdot\u001b[0m\u001b[0;34m(\u001b[0m\u001b[0mnp\u001b[0m\u001b[0;34m.\u001b[0m\u001b[0mlinalg\u001b[0m\u001b[0;34m.\u001b[0m\u001b[0minv\u001b[0m\u001b[0;34m(\u001b[0m\u001b[0mA\u001b[0m\u001b[0;34m)\u001b[0m\u001b[0;34m,\u001b[0m \u001b[0mB\u001b[0m\u001b[0;34m)\u001b[0m \u001b[0;34m+\u001b[0m \u001b[0mI\u001b[0m\u001b[0;34m)\u001b[0m \u001b[0;34m**\u001b[0m \u001b[0;34m(\u001b[0m\u001b[0;34m-\u001b[0m\u001b[0;36m0.5\u001b[0m\u001b[0;34m)\u001b[0m\u001b[0;34m\u001b[0m\u001b[0m\n\u001b[0m\u001b[1;32m     11\u001b[0m     \u001b[0mabinv\u001b[0m \u001b[0;34m=\u001b[0m \u001b[0mnp\u001b[0m\u001b[0;34m.\u001b[0m\u001b[0mlinalg\u001b[0m\u001b[0;34m.\u001b[0m\u001b[0minv\u001b[0m\u001b[0;34m(\u001b[0m\u001b[0mA\u001b[0m \u001b[0;34m+\u001b[0m \u001b[0mB\u001b[0m\u001b[0;34m)\u001b[0m\u001b[0;34m\u001b[0m\u001b[0m\n\u001b[1;32m     12\u001b[0m     \u001b[0;32mfor\u001b[0m \u001b[0mi\u001b[0m \u001b[0;32min\u001b[0m \u001b[0mrange\u001b[0m\u001b[0;34m(\u001b[0m\u001b[0mn\u001b[0m\u001b[0;34m)\u001b[0m\u001b[0;34m:\u001b[0m\u001b[0;34m\u001b[0m\u001b[0m\n",
      "\u001b[0;31mValueError\u001b[0m: shapes (3,3) and (1,1) not aligned: 3 (dim 1) != 1 (dim 0)"
     ]
    }
   ],
   "source": [
    "b = np.array([0.0])\n",
    "B = np.array([[1.0]])\n",
    "def bintegrate(gp,b,B):\n",
    "    n,dim = gp.X.shape\n",
    "    length_scale = gp.kern.lengthscale[0]\n",
    "    A = length_scale** 2 * np.diag(np.ones(dim))\n",
    "    I = np.identity(dim)    \n",
    "    X = gp.X\n",
    "    z = np.zeros((n, 1))\n",
    "    determ = np.linalg.det(np.dot(np.linalg.inv(A), B) + I) ** (-0.5)\n",
    "    abinv = np.linalg.inv(A + B)\n",
    "    for i in range(n):\n",
    "        x = X[i, :]\n",
    "        expon = np.exp(-0.5 * np.dot(np.dot((x - b), abinv), (x - b).T))\n",
    "        z[i, :] = determ * expon\n",
    "    mean = np.dot(z.T,gp.posterior.woodbury_vector)\n",
    "    \n",
    "    var_determ = np.linalg.det(2*np.dot(np.linalg.inv(A), B) + I) ** (-0.5)\n",
    "    var = var_determ - np.dot(z.T, gp.posterior.woodbury_inv.dot(z))\n",
    "    return mean[0][0], var[0][0]\n",
    "bintegrate(m,b,B)"
   ]
  },
  {
   "cell_type": "code",
   "execution_count": 26,
   "metadata": {},
   "outputs": [
    {
     "name": "stdout",
     "output_type": "stream",
     "text": [
      "-1.0779449749259433e-10 0.037037037037037035 [[9.69893401e-31]\n",
      " [3.86420023e-26]\n",
      " [2.66574230e-20]\n",
      " [6.40466370e-16]\n",
      " [2.92064461e-10]]\n"
     ]
    }
   ],
   "source": [
    "# b = np.array([0.0])\n",
    "# B = np.array([[1.0]])\n",
    "b = np.array([0.0,0.0,0.0])\n",
    "B = np.array([[1.0,0.0,0.0],[0.0,1.0,0.0],[0.0,0.0,1.0]])\n",
    "def integrate_dim(gp, sdim,a,b, B):\n",
    "    n,_ = gp.X.shape\n",
    "    length_scale = gp.kern.lengthscale[0]\n",
    "    A = length_scale** 2 * np.diag(np.ones(sdim))\n",
    "    I = np.identity(sdim)    \n",
    "    X = gp.X\n",
    "    z = np.zeros((n, 1))\n",
    "    determ = np.linalg.det(np.dot(np.linalg.inv(A), B) + I) ** (-0.5)\n",
    "    abinv = np.linalg.inv(A + B)\n",
    "    for i in range(n):\n",
    "        x = X[i, :sdim]\n",
    "        xa = X[i, sdim:]\n",
    "        factor = np.exp(-0.5 * np.sum((xa-a)**2 / (length_scale ** 2)))\n",
    "        expon = np.exp(-0.5 * np.dot(np.dot((x - b), abinv), (x - b).T))\n",
    "        z[i, :] = factor*determ * expon\n",
    "    mean = np.dot(z.T,gp.posterior.woodbury_vector)\n",
    "    var_determ = np.linalg.det(2*np.dot(np.linalg.inv(A), B) + I) ** (-0.5)\n",
    "    var = var_determ - np.dot(z.T, gp.posterior.woodbury_inv.dot(z))\n",
    "    return mean[0][0], var[0][0], z\n",
    "mu,var,z =  integrate_dim(gp,3,np.array([0.0]),b,B)\n",
    "print mu,var,z\n",
    "\n",
    "\n",
    "def bq_acquisition(gp,sdim,a,b,B,xs,z):\n",
    "    length_scale = gp.kern.lengthscale[0]\n",
    "    A = length_scale** 2 * np.diag(np.ones(sdim))\n",
    "    I = np.identity(sdim)    \n",
    "    X = gp.X\n",
    "    \n",
    "    var_determ = np.linalg.det(2*np.dot(np.linalg.inv(A), B) + I) ** (-0.5)\n",
    "    determ = np.linalg.det(np.dot(np.linalg.inv(A), B) + I) ** (-0.5)\n",
    "    abinv = np.linalg.inv(A + B)\n",
    "    variances = np.zeros((xs.shape[0]))\n",
    "    for i in range(xs.shape[0]):\n",
    "        x = xs[i, :]\n",
    "        xa = np.concatenate((xs[i, :],a))\n",
    "        Xnew = np.vstack((gp.X, xa))\n",
    "        K = gp.kern.K(Xnew)\n",
    "        K[np.diag_indices_from(K)] += 1e-10\n",
    "        ztemp = determ * np.exp(-0.5 * np.dot(np.dot((x - b), abinv), (x - b).T))\n",
    "        ztemp = np.vstack((z, ztemp))\n",
    "        L = cholesky(K, lower=True)\n",
    "        Kz = cho_solve((L, True), ztemp)\n",
    "        variances[i] = var_determ - np.dot(ztemp.T, Kz)\n",
    "    sorted_vars = variances.argsort()\n",
    "    return xs[sorted_vars[:1]]\n",
    "# print bq_acquisition(gp,1,np.array([0.0]),b,B,np.array([[-1.0],[1.0],[2.0],[3.5]]),z)"
   ]
  },
  {
   "cell_type": "code",
   "execution_count": 36,
   "metadata": {},
   "outputs": [
    {
     "name": "stdout",
     "output_type": "stream",
     "text": [
      "iter 0\n",
      "[-2.27727728]\n",
      "iter 1\n",
      "[-2.27727728]\n",
      "iter 2\n",
      "[-2.31731732]\n",
      "iter 3\n",
      "[-2.31731732]\n",
      "iter 4\n",
      "[-2.30730731]\n",
      "iter 5\n",
      "[-2.30730731]\n",
      "iter 6\n",
      "[-2.30730731]\n",
      "iter 7\n",
      "[-2.36736737]\n",
      "iter 8\n",
      "[-2.37737738]\n",
      "iter 9\n",
      "[-2.38738739]\n",
      "iter 10\n",
      "[-2.38738739]\n",
      "iter 11\n",
      "[-2.33733734]\n",
      "iter 12\n",
      "[-2.33733734]\n",
      "iter 13\n"
     ]
    },
    {
     "ename": "KeyboardInterrupt",
     "evalue": "",
     "output_type": "error",
     "traceback": [
      "\u001b[0;31m---------------------------------------------------------------------------\u001b[0m",
      "\u001b[0;31mKeyboardInterrupt\u001b[0m                         Traceback (most recent call last)",
      "\u001b[0;32m<ipython-input-36-03bdbc064f5d>\u001b[0m in \u001b[0;36m<module>\u001b[0;34m()\u001b[0m\n\u001b[1;32m     38\u001b[0m \u001b[0;31m#         gp.plot()\u001b[0m\u001b[0;34m\u001b[0m\u001b[0;34m\u001b[0m\u001b[0m\n\u001b[1;32m     39\u001b[0m     \u001b[0;32mreturn\u001b[0m \u001b[0mgp\u001b[0m\u001b[0;34m\u001b[0m\u001b[0m\n\u001b[0;32m---> 40\u001b[0;31m \u001b[0mnewgp\u001b[0m \u001b[0;34m=\u001b[0m \u001b[0mOPT\u001b[0m\u001b[0;34m(\u001b[0m\u001b[0mf\u001b[0m\u001b[0;34m,\u001b[0m\u001b[0mgps\u001b[0m\u001b[0;34m[\u001b[0m\u001b[0;34m-\u001b[0m\u001b[0;36m1\u001b[0m\u001b[0;34m]\u001b[0m\u001b[0;34m,\u001b[0m\u001b[0mb\u001b[0m\u001b[0;34m,\u001b[0m\u001b[0mB\u001b[0m\u001b[0;34m,\u001b[0m\u001b[0;36m3\u001b[0m\u001b[0;34m,\u001b[0m\u001b[0;36m1\u001b[0m\u001b[0;34m)\u001b[0m\u001b[0;34m\u001b[0m\u001b[0m\n\u001b[0m\u001b[1;32m     41\u001b[0m \u001b[0;34m\u001b[0m\u001b[0m\n",
      "\u001b[0;32m<ipython-input-36-03bdbc064f5d>\u001b[0m in \u001b[0;36mOPT\u001b[0;34m(f, gp, b, B, sdim, adim)\u001b[0m\n\u001b[1;32m     17\u001b[0m \u001b[0;31m#         Mus = lambda a: integrate_dim(gp, sdim, a, prior[0], prior[1])[0]\u001b[0m\u001b[0;34m\u001b[0m\u001b[0;34m\u001b[0m\u001b[0m\n\u001b[1;32m     18\u001b[0m \u001b[0;31m#         D[i] =  (actions, np.apply_along_axis(Mus, 1, actions),np.apply_along_axis(Vars, 1, actions),np.apply_along_axis(UCB, 1, actions))\u001b[0m\u001b[0;34m\u001b[0m\u001b[0;34m\u001b[0m\u001b[0m\n\u001b[0;32m---> 19\u001b[0;31m         \u001b[0macq_val\u001b[0m \u001b[0;34m=\u001b[0m \u001b[0mnp\u001b[0m\u001b[0;34m.\u001b[0m\u001b[0mapply_along_axis\u001b[0m\u001b[0;34m(\u001b[0m\u001b[0mUCB\u001b[0m\u001b[0;34m(\u001b[0m\u001b[0mgp\u001b[0m\u001b[0;34m)\u001b[0m\u001b[0;34m,\u001b[0m \u001b[0;36m1\u001b[0m\u001b[0;34m,\u001b[0m \u001b[0mactions\u001b[0m\u001b[0;34m)\u001b[0m\u001b[0;34m\u001b[0m\u001b[0m\n\u001b[0m\u001b[1;32m     20\u001b[0m \u001b[0;31m#         print acq_val\u001b[0m\u001b[0;34m\u001b[0m\u001b[0;34m\u001b[0m\u001b[0m\n\u001b[1;32m     21\u001b[0m         \u001b[0mindex\u001b[0m \u001b[0;34m=\u001b[0m \u001b[0macq_val\u001b[0m\u001b[0;34m.\u001b[0m\u001b[0margmax\u001b[0m\u001b[0;34m(\u001b[0m\u001b[0;34m)\u001b[0m\u001b[0;34m\u001b[0m\u001b[0m\n",
      "\u001b[0;32m/Users/ngothosk/Library/Python/2.7/lib/python/site-packages/numpy/lib/shape_base.pyc\u001b[0m in \u001b[0;36mapply_along_axis\u001b[0;34m(func1d, axis, arr, *args, **kwargs)\u001b[0m\n\u001b[1;32m    153\u001b[0m     \u001b[0mbuff\u001b[0m\u001b[0;34m[\u001b[0m\u001b[0mind0\u001b[0m\u001b[0;34m]\u001b[0m \u001b[0;34m=\u001b[0m \u001b[0mres\u001b[0m\u001b[0;34m\u001b[0m\u001b[0m\n\u001b[1;32m    154\u001b[0m     \u001b[0;32mfor\u001b[0m \u001b[0mind\u001b[0m \u001b[0;32min\u001b[0m \u001b[0minds\u001b[0m\u001b[0;34m:\u001b[0m\u001b[0;34m\u001b[0m\u001b[0m\n\u001b[0;32m--> 155\u001b[0;31m         \u001b[0mbuff\u001b[0m\u001b[0;34m[\u001b[0m\u001b[0mind\u001b[0m\u001b[0;34m]\u001b[0m \u001b[0;34m=\u001b[0m \u001b[0masanyarray\u001b[0m\u001b[0;34m(\u001b[0m\u001b[0mfunc1d\u001b[0m\u001b[0;34m(\u001b[0m\u001b[0minarr_view\u001b[0m\u001b[0;34m[\u001b[0m\u001b[0mind\u001b[0m\u001b[0;34m]\u001b[0m\u001b[0;34m,\u001b[0m \u001b[0;34m*\u001b[0m\u001b[0margs\u001b[0m\u001b[0;34m,\u001b[0m \u001b[0;34m**\u001b[0m\u001b[0mkwargs\u001b[0m\u001b[0;34m)\u001b[0m\u001b[0;34m)\u001b[0m\u001b[0;34m\u001b[0m\u001b[0m\n\u001b[0m\u001b[1;32m    156\u001b[0m \u001b[0;34m\u001b[0m\u001b[0m\n\u001b[1;32m    157\u001b[0m     \u001b[0;32mif\u001b[0m \u001b[0;32mnot\u001b[0m \u001b[0misinstance\u001b[0m\u001b[0;34m(\u001b[0m\u001b[0mres\u001b[0m\u001b[0;34m,\u001b[0m \u001b[0mmatrix\u001b[0m\u001b[0;34m)\u001b[0m\u001b[0;34m:\u001b[0m\u001b[0;34m\u001b[0m\u001b[0m\n",
      "\u001b[0;32m<ipython-input-36-03bdbc064f5d>\u001b[0m in \u001b[0;36mf\u001b[0;34m(a)\u001b[0m\n\u001b[1;32m     11\u001b[0m         \u001b[0;32mdef\u001b[0m \u001b[0mUCB\u001b[0m\u001b[0;34m(\u001b[0m\u001b[0mgp\u001b[0m\u001b[0;34m)\u001b[0m\u001b[0;34m:\u001b[0m\u001b[0;34m\u001b[0m\u001b[0m\n\u001b[1;32m     12\u001b[0m             \u001b[0;32mdef\u001b[0m \u001b[0mf\u001b[0m\u001b[0;34m(\u001b[0m\u001b[0ma\u001b[0m\u001b[0;34m)\u001b[0m\u001b[0;34m:\u001b[0m\u001b[0;34m\u001b[0m\u001b[0m\n\u001b[0;32m---> 13\u001b[0;31m                 \u001b[0mval\u001b[0m \u001b[0;34m=\u001b[0m \u001b[0mintegrate_dim\u001b[0m\u001b[0;34m(\u001b[0m\u001b[0mgp\u001b[0m\u001b[0;34m,\u001b[0m \u001b[0msdim\u001b[0m\u001b[0;34m,\u001b[0m \u001b[0ma\u001b[0m\u001b[0;34m,\u001b[0m \u001b[0mb\u001b[0m\u001b[0;34m,\u001b[0m\u001b[0mB\u001b[0m\u001b[0;34m)\u001b[0m\u001b[0;34m\u001b[0m\u001b[0m\n\u001b[0m\u001b[1;32m     14\u001b[0m                 \u001b[0;32mreturn\u001b[0m \u001b[0mval\u001b[0m\u001b[0;34m[\u001b[0m\u001b[0;36m0\u001b[0m\u001b[0;34m]\u001b[0m \u001b[0;34m+\u001b[0m \u001b[0;36m0.5\u001b[0m\u001b[0;34m*\u001b[0m\u001b[0mnp\u001b[0m\u001b[0;34m.\u001b[0m\u001b[0msqrt\u001b[0m\u001b[0;34m(\u001b[0m\u001b[0mval\u001b[0m\u001b[0;34m[\u001b[0m\u001b[0;36m1\u001b[0m\u001b[0;34m]\u001b[0m\u001b[0;34m)\u001b[0m\u001b[0;34m\u001b[0m\u001b[0m\n\u001b[1;32m     15\u001b[0m             \u001b[0;32mreturn\u001b[0m \u001b[0mf\u001b[0m\u001b[0;34m\u001b[0m\u001b[0m\n",
      "\u001b[0;32m<ipython-input-26-89f0f5ea77d6>\u001b[0m in \u001b[0;36mintegrate_dim\u001b[0;34m(gp, sdim, a, b, B)\u001b[0m\n\u001b[1;32m     16\u001b[0m         \u001b[0mxa\u001b[0m \u001b[0;34m=\u001b[0m \u001b[0mX\u001b[0m\u001b[0;34m[\u001b[0m\u001b[0mi\u001b[0m\u001b[0;34m,\u001b[0m \u001b[0msdim\u001b[0m\u001b[0;34m:\u001b[0m\u001b[0;34m]\u001b[0m\u001b[0;34m\u001b[0m\u001b[0m\n\u001b[1;32m     17\u001b[0m         \u001b[0mfactor\u001b[0m \u001b[0;34m=\u001b[0m \u001b[0mnp\u001b[0m\u001b[0;34m.\u001b[0m\u001b[0mexp\u001b[0m\u001b[0;34m(\u001b[0m\u001b[0;34m-\u001b[0m\u001b[0;36m0.5\u001b[0m \u001b[0;34m*\u001b[0m \u001b[0mnp\u001b[0m\u001b[0;34m.\u001b[0m\u001b[0msum\u001b[0m\u001b[0;34m(\u001b[0m\u001b[0;34m(\u001b[0m\u001b[0mxa\u001b[0m\u001b[0;34m-\u001b[0m\u001b[0ma\u001b[0m\u001b[0;34m)\u001b[0m\u001b[0;34m**\u001b[0m\u001b[0;36m2\u001b[0m \u001b[0;34m/\u001b[0m \u001b[0;34m(\u001b[0m\u001b[0mlength_scale\u001b[0m \u001b[0;34m**\u001b[0m \u001b[0;36m2\u001b[0m\u001b[0;34m)\u001b[0m\u001b[0;34m)\u001b[0m\u001b[0;34m)\u001b[0m\u001b[0;34m\u001b[0m\u001b[0m\n\u001b[0;32m---> 18\u001b[0;31m         \u001b[0mexpon\u001b[0m \u001b[0;34m=\u001b[0m \u001b[0mnp\u001b[0m\u001b[0;34m.\u001b[0m\u001b[0mexp\u001b[0m\u001b[0;34m(\u001b[0m\u001b[0;34m-\u001b[0m\u001b[0;36m0.5\u001b[0m \u001b[0;34m*\u001b[0m \u001b[0mnp\u001b[0m\u001b[0;34m.\u001b[0m\u001b[0mdot\u001b[0m\u001b[0;34m(\u001b[0m\u001b[0mnp\u001b[0m\u001b[0;34m.\u001b[0m\u001b[0mdot\u001b[0m\u001b[0;34m(\u001b[0m\u001b[0;34m(\u001b[0m\u001b[0mx\u001b[0m \u001b[0;34m-\u001b[0m \u001b[0mb\u001b[0m\u001b[0;34m)\u001b[0m\u001b[0;34m,\u001b[0m \u001b[0mabinv\u001b[0m\u001b[0;34m)\u001b[0m\u001b[0;34m,\u001b[0m \u001b[0;34m(\u001b[0m\u001b[0mx\u001b[0m \u001b[0;34m-\u001b[0m \u001b[0mb\u001b[0m\u001b[0;34m)\u001b[0m\u001b[0;34m.\u001b[0m\u001b[0mT\u001b[0m\u001b[0;34m)\u001b[0m\u001b[0;34m)\u001b[0m\u001b[0;34m\u001b[0m\u001b[0m\n\u001b[0m\u001b[1;32m     19\u001b[0m         \u001b[0mz\u001b[0m\u001b[0;34m[\u001b[0m\u001b[0mi\u001b[0m\u001b[0;34m,\u001b[0m \u001b[0;34m:\u001b[0m\u001b[0;34m]\u001b[0m \u001b[0;34m=\u001b[0m \u001b[0mfactor\u001b[0m\u001b[0;34m*\u001b[0m\u001b[0mdeterm\u001b[0m \u001b[0;34m*\u001b[0m \u001b[0mexpon\u001b[0m\u001b[0;34m\u001b[0m\u001b[0m\n\u001b[1;32m     20\u001b[0m     \u001b[0mmean\u001b[0m \u001b[0;34m=\u001b[0m \u001b[0mnp\u001b[0m\u001b[0;34m.\u001b[0m\u001b[0mdot\u001b[0m\u001b[0;34m(\u001b[0m\u001b[0mz\u001b[0m\u001b[0;34m.\u001b[0m\u001b[0mT\u001b[0m\u001b[0;34m,\u001b[0m\u001b[0mgp\u001b[0m\u001b[0;34m.\u001b[0m\u001b[0mposterior\u001b[0m\u001b[0;34m.\u001b[0m\u001b[0mwoodbury_vector\u001b[0m\u001b[0;34m)\u001b[0m\u001b[0;34m\u001b[0m\u001b[0m\n",
      "\u001b[0;31mKeyboardInterrupt\u001b[0m: "
     ]
    }
   ],
   "source": [
    "# b = np.array([0.0])\n",
    "# B = np.array([[1.0]])\n",
    "b = np.array([0.0,0.0,0.0])\n",
    "B = np.array([[1.0,0.0,0.0],[0.0,1.0,0.0],[0.0,0.0,1.0]])\n",
    "# gps = [gp]\n",
    "def OPT(f,gp,b,B,sdim,adim):\n",
    "    for i in range(500):\n",
    "        print \"iter %d\" % i\n",
    "#         actions = np.random.uniform(-5,5, (2000, adim))\n",
    "        actions = np.atleast_2d(np.linspace(-5.0,5.0,1000)).T\n",
    "        def UCB(gp):\n",
    "            def f(a):\n",
    "                val = integrate_dim(gp, sdim, a, b,B)\n",
    "                return val[0] + 0.5*np.sqrt(val[1])\n",
    "            return f\n",
    "#         Vars = lambda a: 50000000.0 * integrate_dim(gp, sdim, a, prior[0], prior[1])[1]\n",
    "#         Mus = lambda a: integrate_dim(gp, sdim, a, prior[0], prior[1])[0]\n",
    "#         D[i] =  (actions, np.apply_along_axis(Mus, 1, actions),np.apply_along_axis(Vars, 1, actions),np.apply_along_axis(UCB, 1, actions))\n",
    "        acq_val = np.apply_along_axis(UCB(gp), 1, actions)\n",
    "#         print acq_val\n",
    "        index = acq_val.argmax()\n",
    "        maxa = actions[index]\n",
    "        print maxa\n",
    "        _,_,z = integrate_dim(gp, sdim, maxa,b,B)\n",
    "        xs = np.random.uniform(-10.0,10.0, (1000, sdim))\n",
    "#         xs = np.atleast_2d(np.linspace(-10.0,10.0,500)).T\n",
    "        chosen = bq_acquisition(gp, sdim, maxa, b,B, xs,z)\n",
    "        X = gp.X\n",
    "        Y = gp.Y\n",
    "        chosen_columns = np.repeat(np.reshape(maxa,(1,-1)),chosen.shape[0],axis=0)\n",
    "        newX = np.hstack((chosen, chosen_columns))\n",
    "        Xnew = np.vstack((X, newX))\n",
    "        Yadd = newX.copy()\n",
    "        Yadd = f(Yadd)\n",
    "        Ynew = np.vstack((Y, Yadd))\n",
    "        gp = GPy.models.GPRegression(Xnew, Ynew, GPy.kern.src.rbf.RBF(input_dim=DIM,lengthscale=LSCALE),noise_var=0.0)\n",
    "        gps.append(gp)\n",
    "#         gp.plot()\n",
    "    return gp\n",
    "newgp = OPT(f,gps[-1],b,B,3,1)\n",
    "        "
   ]
  },
  {
   "cell_type": "code",
   "execution_count": 19,
   "metadata": {},
   "outputs": [
    {
     "data": {
      "text/plain": [
       "71"
      ]
     },
     "execution_count": 19,
     "metadata": {},
     "output_type": "execute_result"
    }
   ],
   "source": [
    "len(gps)"
   ]
  },
  {
   "cell_type": "code",
   "execution_count": 32,
   "metadata": {},
   "outputs": [
    {
     "name": "stdout",
     "output_type": "stream",
     "text": [
      "REFERENCE\n"
     ]
    },
    {
     "data": {
      "image/png": "[encoded data removed]",
      "text/plain": [
       "<matplotlib.figure.Figure at 0x11b15b9d0>"
      ]
     },
     "metadata": {},
     "output_type": "display_data"
    }
   ],
   "source": [
    "print \"REFERENCE\"\n",
    "actions = np.linspace(-5.0,5.0,1000)\n",
    "sdim = 3\n",
    "adim = 1\n",
    "INDEX = -1\n",
    "def plot_reference(m,actions):\n",
    "    mus = []\n",
    "    var = []\n",
    "    tot = []\n",
    "    for a in actions:\n",
    "        out = integrate_dim(m,sdim, a, b,B)\n",
    "        mus.append(out[0])\n",
    "        var.append(2*np.sqrt(out[1]))\n",
    "        tot.append(out[0] + 0.5*np.sqrt(out[1]))\n",
    "    plt.plot(actions, mus,label='mu')\n",
    "    plt.plot(actions, var,label='b*sig')\n",
    "    plt.plot(actions, tot,label='UCB')\n",
    "    plt.legend(loc='upper left')\n",
    "    plt.show()\n",
    "plot_reference(gps[-1],actions)\n",
    "# plot_reference(m,actions)"
   ]
  },
  {
   "cell_type": "code",
   "execution_count": 37,
   "metadata": {},
   "outputs": [
    {
     "data": {
      "image/png": "[encoded data removed]",
      "text/plain": [
       "<matplotlib.figure.Figure at 0x11bed5b90>"
      ]
     },
     "metadata": {},
     "output_type": "display_data"
    }
   ],
   "source": [
    "def plot_errors(m,gps):\n",
    "    mus1 = []\n",
    "    mus2 = []\n",
    "    for a in actions:\n",
    "        out1 = integrate_dim(m, sdim, a, b,B)\n",
    "        mus1.append(out1[0])\n",
    "    for i, gp in enumerate(gps):\n",
    "        mus2 = []\n",
    "        for a in actions:\n",
    "            out2 = integrate_dim(gp, sdim, a, b,B)\n",
    "            mus2.append(out2[0])\n",
    "        plt.clf()\n",
    "        plt.title(\"Action vs Integral Estimate Iteration %d\" % i)\n",
    "        plt.plot(actions, mus1, 'r', lw=2)\n",
    "        plt.plot(actions, mus2, 'b', lw=2)\n",
    "        plt.ylabel('integral of f(s,a)ds')\n",
    "        plt.xlabel('actions')\n",
    "        plt.savefig(\"./imgs/%i.png\" % i)\n",
    "def plot_error(m,gp):\n",
    "    mus1 = []\n",
    "    mus2 = []\n",
    "    for a in actions:\n",
    "        out1 = integrate_dim(m, sdim, a, b,B)\n",
    "        out2 = integrate_dim(gp, sdim, a, b,B)\n",
    "        mus1.append(out1[0])\n",
    "        mus2.append(out2[0])\n",
    "    plt.plot(actions, mus1, 'r', lw=2)\n",
    "    plt.plot(actions, mus2, 'b', lw=2)\n",
    "    plt.show()\n",
    "plot_error(m,gps[-1])\n",
    "# plot_errors(m,gps)"
   ]
  },
  {
   "cell_type": "code",
   "execution_count": null,
   "metadata": {},
   "outputs": [],
   "source": []
  }
 ],
 "metadata": {
  "kernelspec": {
   "display_name": "Python 2",
   "language": "python",
   "name": "python2"
  },
  "language_info": {
   "codemirror_mode": {
    "name": "ipython",
    "version": 2
   },
   "file_extension": ".py",
   "mimetype": "text/x-python",
   "name": "python",
   "nbconvert_exporter": "python",
   "pygments_lexer": "ipython2",
   "version": "2.7.10"
  }
 },
 "nbformat": 4,
 "nbformat_minor": 2
}
