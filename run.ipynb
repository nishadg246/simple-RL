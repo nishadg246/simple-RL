{
 "cells": [
  {
   "cell_type": "code",
   "execution_count": 120,
   "metadata": {},
   "outputs": [
    {
     "name": "stdout",
     "output_type": "stream",
     "text": [
      "(52, 2) (52, 1)\n",
      "(131, 2) (131, 1)\n",
      "(215, 2) (215, 1)\n",
      "(308, 2) (308, 1)\n",
      "(399, 2) (399, 1)\n",
      "(493, 2) (493, 1)\n",
      "(561, 2) (561, 1)\n",
      "(627, 2) (627, 1)\n",
      "(699, 2) (699, 1)\n",
      "(768, 2) (768, 1)\n",
      "(839, 2) (839, 1)\n",
      "(904, 2) (904, 1)\n",
      "(1016, 2) (1016, 1)\n",
      "(1115, 2) (1115, 1)\n",
      "(1194, 2) (1194, 1)\n",
      "(1284, 2) (1284, 1)\n",
      "(1363, 2) (1363, 1)\n",
      "(1427, 2) (1427, 1)\n",
      "(1498, 2) (1498, 1)\n",
      "(1587, 2) (1587, 1)\n",
      "(1660, 2) (1660, 1)\n",
      "(1732, 2) (1732, 1)\n",
      "(1797, 2) (1797, 1)\n",
      "(1885, 2) (1885, 1)\n",
      "(1962, 2) (1962, 1)\n",
      "(2037, 2) (2037, 1)\n",
      "(2115, 2) (2115, 1)\n",
      "(2200, 2) (2200, 1)\n",
      "(2272, 2) (2272, 1)\n",
      "(2353, 2) (2353, 1)\n"
     ]
    }
   ],
   "source": [
    "run \"gp_rtdp.py\""
   ]
  },
  {
   "cell_type": "code",
   "execution_count": 122,
   "metadata": {},
   "outputs": [
    {
     "data": {
      "image/png": "[encoded data removed]",
      "text/plain": [
       "<Figure size 432x288 with 1 Axes>"
      ]
     },
     "metadata": {},
     "output_type": "display_data"
    }
   ],
   "source": [
    "import matplotlib.pyplot as plt\n",
    "import matplotlib.colors as colors\n",
    "\n",
    "rx = [0,30]\n",
    "ry = [0,30]\n",
    "a = np.full((rx[1]-rx[0],ry[1]-ry[0]),0.0)\n",
    "for i in range(rx[0],rx[1]):\n",
    "    for j in range(ry[0],ry[1]):\n",
    "        a[i-rx[0],j-ry[0]] = p.VPGS[-1][0].predict(np.array([[i,j]]))[0][0][0]\n",
    "if a.min()< 0:\n",
    "    a += -(a.min())\n",
    "a+=.001\n",
    "plt.imshow(a, cmap='hot',  norm=colors.LogNorm(vmin=a.min(), vmax=a.max()), interpolation='nearest')\n",
    "# l =  p.VPGS[-1][1].keys()\n",
    "# pl.plot([i[0] for i in l], [i[1] for i in l], 'ro')\n",
    "plt.show()"
   ]
  },
  {
   "cell_type": "code",
   "execution_count": 130,
   "metadata": {},
   "outputs": [
    {
     "name": "stdout",
     "output_type": "stream",
     "text": [
      "2963.3968734577234\n"
     ]
    }
   ],
   "source": [
    "# print p.VPGS[-1][1]\n",
    "print p.VPGS[-1][0].predict(np.array([[2.0,3.0]]))[0][0][0]"
   ]
  },
  {
   "cell_type": "code",
   "execution_count": 127,
   "metadata": {},
   "outputs": [
    {
     "name": "stdout",
     "output_type": "stream",
     "text": [
      "48\n"
     ]
    }
   ],
   "source": [
    "path = p.testValueFunction(p.VPGS[-1][0],29.0,29.0,100)"
   ]
  },
  {
   "cell_type": "code",
   "execution_count": 128,
   "metadata": {},
   "outputs": [
    {
     "data": {
      "image/png": "[encoded data removed]",
      "text/plain": [
       "<Figure size 432x288 with 1 Axes>"
      ]
     },
     "metadata": {},
     "output_type": "display_data"
    }
   ],
   "source": [
    "import numpy as np\n",
    "import pylab as pl\n",
    "from matplotlib import collections  as mc\n",
    "import matplotlib.patches as patches\n",
    "lines = []\n",
    "for i in xrange(len(path)-1):\n",
    "    lines.append([path[i],path[i+1]])\n",
    "\n",
    "rect = patches.Rectangle((5,5),5,20,linewidth=1,edgecolor='r',facecolor='none')\n",
    "rect2 = patches.Rectangle((15,10),10,5,linewidth=1,edgecolor='r',facecolor='none')\n",
    "rect3 = patches.Rectangle((20,20),5,5,linewidth=1,edgecolor='r',facecolor='none')\n",
    "\n",
    "\n",
    "lc = mc.LineCollection(lines,linewidths=2)\n",
    "fig, ax = pl.subplots()\n",
    "# pl.plot([i[0] for i in l], [i[1] for i in l], 'ro')\n",
    "ax.add_patch(rect)\n",
    "ax.add_patch(rect2)\n",
    "ax.add_patch(rect3)\n",
    "ax.add_collection(lc)\n",
    "ax.autoscale()\n",
    "ax.invert_yaxis()\n",
    "ax.margins(0.1)"
   ]
  },
  {
   "cell_type": "code",
   "execution_count": 59,
   "metadata": {},
   "outputs": [],
   "source": []
  },
  {
   "cell_type": "code",
   "execution_count": 65,
   "metadata": {},
   "outputs": [
    {
     "ename": "ImportError",
     "evalue": "No module named shapely",
     "output_type": "error",
     "traceback": [
      "\u001b[0;31m--------------------------------------\u001b[0m",
      "\u001b[0;31mImportError\u001b[0mTraceback (most recent call last)",
      "\u001b[0;32m<ipython-input-65-06fe9478d3da>\u001b[0m in \u001b[0;36m<module>\u001b[0;34m()\u001b[0m\n\u001b[0;32m----> 1\u001b[0;31m \u001b[0;32mimport\u001b[0m \u001b[0mshapely\u001b[0m\u001b[0;34m\u001b[0m\u001b[0m\n\u001b[0m",
      "\u001b[0;31mImportError\u001b[0m: No module named shapely"
     ]
    }
   ],
   "source": [
    "import shapely"
   ]
  },
  {
   "cell_type": "code",
   "execution_count": 144,
   "metadata": {},
   "outputs": [
    {
     "data": {
      "image/png": "[encoded data removed]",
      "text/plain": [
       "<Figure size 432x288 with 1 Axes>"
      ]
     },
     "metadata": {},
     "output_type": "display_data"
    }
   ],
   "source": [
    "import matplotlib.pyplot as plt\n",
    "import matplotlib.colors as colors\n",
    "D= {}\n",
    "D[(1.0,1.0)] = 10000.0\n",
    "D[(2.0,2.0)] = 9000.0\n",
    "gp, _, _ = p.GPFromDict(D)\n",
    "\n",
    "rx = [0,30]\n",
    "ry = [0,30]\n",
    "a = np.full((rx[1]-rx[0],ry[1]-ry[0]),0.0)\n",
    "for i in range(rx[0],rx[1]):\n",
    "    for j in range(ry[0],ry[1]):\n",
    "        a[i-rx[0],j-ry[0]] = gp.predict(np.array([[i,j]]))[0][0][0]\n",
    "if a.min()< 0:\n",
    "    a += -(a.min())\n",
    "a+=.001\n",
    "plt.imshow(a, cmap='hot',  norm=colors.LogNorm(vmin=a.min(), vmax=a.max()), interpolation='nearest')\n",
    "# l =  p.VPGS[-1][1].keys()\n",
    "# pl.plot([i[0] for i in l], [i[1] for i in l], 'ro')\n",
    "plt.show()"
   ]
  },
  {
   "cell_type": "code",
   "execution_count": 147,
   "metadata": {},
   "outputs": [
    {
     "data": {
      "text/plain": [
       "5294.321313010477"
      ]
     },
     "execution_count": 147,
     "metadata": {},
     "output_type": "execute_result"
    }
   ],
   "source": [
    "gp.predict(np.array([[2.0,2.0]]))[0][0][0]"
   ]
  },
  {
   "cell_type": "code",
   "execution_count": null,
   "metadata": {},
   "outputs": [],
   "source": []
  }
 ],
 "metadata": {
  "kernelspec": {
   "display_name": "Python 2",
   "language": "python",
   "name": "python2"
  },
  "language_info": {
   "codemirror_mode": {
    "name": "ipython",
    "version": 2
   },
   "file_extension": ".py",
   "mimetype": "text/x-python",
   "name": "python",
   "nbconvert_exporter": "python",
   "pygments_lexer": "ipython2",
   "version": "2.7.12"
  }
 },
 "nbformat": 4,
 "nbformat_minor": 2
}
