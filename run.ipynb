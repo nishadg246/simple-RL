{
 "cells": [
  {
   "cell_type": "code",
   "execution_count": null,
   "metadata": {},
   "outputs": [
    {
     "name": "stdout",
     "output_type": "stream",
     "text": [
      "iteration: 0\n",
      "(704, 2) (704, 1)\n",
      "iteration: 1\n",
      "(699, 2) (699, 1)\n",
      "iteration: 2\n",
      "(699, 2) (699, 1)\n",
      "iteration: 3\n",
      "(699, 2) (699, 1)\n",
      "iteration: 4\n",
      "(699, 2) (699, 1)\n",
      "iteration: 5\n",
      "(699, 2) (699, 1)\n",
      "iteration: 6\n",
      "(699, 2) (699, 1)\n",
      "iteration: 7\n",
      "(699, 2) (699, 1)\n",
      "iteration: 8\n",
      "(699, 2) (699, 1)\n",
      "iteration: 9\n",
      "(699, 2) (699, 1)\n",
      "iteration: 10\n",
      "(699, 2) (699, 1)\n",
      "iteration: 11\n",
      "(699, 2) (699, 1)\n",
      "iteration: 12\n"
     ]
    }
   ],
   "source": [
    "run \"main_gp_bo.py\""
   ]
  },
  {
   "cell_type": "code",
   "execution_count": 146,
   "metadata": {},
   "outputs": [
    {
     "data": {
      "image/png": "[encoded data removed]",
      "text/plain": [
       "<Figure size 432x288 with 1 Axes>"
      ]
     },
     "metadata": {},
     "output_type": "display_data"
    }
   ],
   "source": [
    "import matplotlib.pyplot as plt\n",
    "import matplotlib.colors as colors\n",
    "\n",
    "a = np.full((30, 30),0.00000000000000000001)\n",
    "for i in range(30):\n",
    "    for j in range(30):\n",
    "        a[i,j] = max(0.0000000000000000001,valueFunc.predict(np.array([[i,j]]))[0][0][0])\n",
    "\n",
    "plt.imshow(a, cmap='hot',  norm=colors.LogNorm(vmin=a.min(), vmax=a.max()), interpolation='nearest')\n",
    "plt.show()"
   ]
  },
  {
   "cell_type": "code",
   "execution_count": 148,
   "metadata": {},
   "outputs": [
    {
     "name": "stdout",
     "output_type": "stream",
     "text": [
      "15.0 15.0\n",
      "15.0 16.0\n",
      "14.0 16.0\n",
      "13.0 16.0\n",
      "12.0 16.0\n",
      "11.0 16.0\n",
      "11.0 16.0\n",
      "11.0 16.0\n",
      "11.0 16.0\n",
      "11.0 16.0\n",
      "11.0 16.0\n",
      "11.0 16.0\n",
      "11.0 16.0\n",
      "11.0 16.0\n",
      "11.0 16.0\n",
      "11.0 16.0\n",
      "11.0 16.0\n",
      "11.0 16.0\n",
      "11.0 16.0\n",
      "11.0 16.0\n",
      "11.0 16.0\n",
      "11.0 16.0\n",
      "11.0 16.0\n",
      "11.0 16.0\n",
      "11.0 16.0\n",
      "11.0 16.0\n",
      "11.0 16.0\n",
      "11.0 16.0\n",
      "11.0 16.0\n",
      "11.0 16.0\n",
      "11.0 16.0\n",
      "11.0 16.0\n",
      "11.0 16.0\n",
      "11.0 16.0\n",
      "11.0 16.0\n",
      "11.0 16.0\n",
      "11.0 16.0\n",
      "11.0 16.0\n",
      "11.0 16.0\n",
      "11.0 16.0\n",
      "11.0 16.0\n",
      "11.0 16.0\n",
      "11.0 16.0\n",
      "11.0 16.0\n",
      "11.0 16.0\n",
      "11.0 16.0\n",
      "11.0 16.0\n",
      "11.0 16.0\n",
      "11.0 16.0\n",
      "11.0 16.0\n",
      "11.0 16.0\n",
      "11.0 16.0\n",
      "11.0 16.0\n",
      "11.0 16.0\n",
      "11.0 16.0\n",
      "11.0 16.0\n",
      "11.0 16.0\n",
      "11.0 16.0\n",
      "11.0 16.0\n",
      "11.0 16.0\n",
      "11.0 16.0\n",
      "11.0 16.0\n",
      "11.0 16.0\n",
      "11.0 16.0\n",
      "11.0 16.0\n",
      "11.0 16.0\n",
      "11.0 16.0\n",
      "11.0 16.0\n",
      "11.0 16.0\n",
      "11.0 16.0\n",
      "11.0 16.0\n",
      "11.0 16.0\n",
      "11.0 16.0\n",
      "11.0 16.0\n",
      "11.0 16.0\n",
      "11.0 16.0\n",
      "11.0 16.0\n",
      "11.0 16.0\n",
      "11.0 16.0\n",
      "11.0 16.0\n",
      "11.0 16.0\n",
      "11.0 16.0\n",
      "11.0 16.0\n",
      "11.0 16.0\n",
      "11.0 16.0\n",
      "11.0 16.0\n",
      "11.0 16.0\n",
      "11.0 16.0\n",
      "11.0 16.0\n",
      "11.0 16.0\n",
      "11.0 16.0\n",
      "11.0 16.0\n",
      "11.0 16.0\n",
      "11.0 16.0\n",
      "11.0 16.0\n",
      "11.0 16.0\n",
      "11.0 16.0\n",
      "11.0 16.0\n",
      "11.0 16.0\n",
      "11.0 16.0\n"
     ]
    }
   ],
   "source": [
    "p.testValueFunction(valueFunc,15.0,15.0)"
   ]
  },
  {
   "cell_type": "code",
   "execution_count": null,
   "metadata": {},
   "outputs": [],
   "source": []
  }
 ],
 "metadata": {
  "kernelspec": {
   "display_name": "Python 2",
   "language": "python",
   "name": "python2"
  },
  "language_info": {
   "codemirror_mode": {
    "name": "ipython",
    "version": 2
   },
   "file_extension": ".py",
   "mimetype": "text/x-python",
   "name": "python",
   "nbconvert_exporter": "python",
   "pygments_lexer": "ipython2",
   "version": "2.7.12"
  }
 },
 "nbformat": 4,
 "nbformat_minor": 2
}
