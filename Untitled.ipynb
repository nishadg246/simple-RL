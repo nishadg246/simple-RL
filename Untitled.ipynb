{
 "cells": [
  {
   "cell_type": "code",
   "execution_count": 1,
   "metadata": {},
   "outputs": [],
   "source": [
    "import GPy\n",
    "import numpy as np"
   ]
  },
  {
   "cell_type": "code",
   "execution_count": 307,
   "metadata": {},
   "outputs": [
    {
     "name": "stdout",
     "output_type": "stream",
     "text": [
      "(500, 1) (500, 1)\n"
     ]
    }
   ],
   "source": [
    "X= []\n",
    "y=[]\n",
    "for _ in range(500):\n",
    "        X.append([np.random.uniform(-5,5)])\n",
    "        y.append([1.0])\n",
    "X = np.array(X)\n",
    "y = np.array(y)\n",
    "print X.shape, y.shape"
   ]
  },
  {
   "cell_type": "code",
   "execution_count": 308,
   "metadata": {},
   "outputs": [],
   "source": [
    "k = GPy.kern.src.rbf.RBF(input_dim=1)\n",
    "gp = GPy.models.GPRegression(X,y,kernel=k)\n",
    "# gp.optimize()"
   ]
  },
  {
   "cell_type": "code",
   "execution_count": 313,
   "metadata": {},
   "outputs": [],
   "source": [
    "A = gp.kern.lengthscale[0]*np.diag(np.ones(2))\n",
    "Ainv = np.linalg.inv(A)\n",
    "B = 1.0*np.diag(np.ones(2))\n",
    "b = np.zeros((1,2))\n",
    "I = np.identity(2)\n",
    "K = gp.posterior.covariance\n",
    "# Ky = K.copy()\n",
    "# GPy.util.diag.add(Ky, 1.0+1e-8)\n",
    "Kinv = np.linalg.inv(K)\n",
    "# Wi, LW, LWi, W_logdet =  GPy.util.linalg.pdinv(Ky)"
   ]
  },
  {
   "cell_type": "code",
   "execution_count": 310,
   "metadata": {},
   "outputs": [],
   "source": [
    "z = np.zeros((X.shape[0],1))\n",
    "for i in range(X.shape[0]):\n",
    "#     print np.dot(np.dot((X[i,0:]-b),np.linalg.inv(A+B)),(X[i,0:]-b).T).shape, np.linalg.det(np.dot(Ainv,B) + I)\n",
    "    val = gp.kern.variance[0] * np.linalg.norm(np.matlib.matmul(Ainv,B) + I)**(-1.0/2) * np.exp(-0.5 * np.dot(np.dot((X[i,0:]-b),np.linalg.inv(A+B)),(X[i,0:]-b).T))\n",
    "    z[i,0] = val"
   ]
  },
  {
   "cell_type": "code",
   "execution_count": 311,
   "metadata": {},
   "outputs": [
    {
     "data": {
      "text/plain": [
       "array([[0.58966227]])"
      ]
     },
     "execution_count": 311,
     "metadata": {},
     "output_type": "execute_result"
    }
   ],
   "source": [
    "np.dot(np.dot(z.T,Kinv),y)"
   ]
  },
  {
   "cell_type": "code",
   "execution_count": 303,
   "metadata": {},
   "outputs": [
    {
     "data": {
      "text/plain": [
       "array([[3.68417674e-06],\n",
       "       [4.35846079e-01],\n",
       "       [4.42499971e-02],\n",
       "       [2.04660071e-02],\n",
       "       [2.67775947e-01],\n",
       "       [8.27655037e-03],\n",
       "       [2.82297755e-01],\n",
       "       [2.28894490e-06],\n",
       "       [4.78478014e-05],\n",
       "       [1.05080921e-02],\n",
       "       [3.36399807e-04],\n",
       "       [1.02944318e-03],\n",
       "       [2.23509778e-04],\n",
       "       [2.20616901e-06],\n",
       "       [2.33125383e-03],\n",
       "       [3.41448269e-01],\n",
       "       [4.55882713e-05],\n",
       "       [2.47636033e-01],\n",
       "       [4.20120927e-01],\n",
       "       [1.84581134e-01],\n",
       "       [1.05648937e-05],\n",
       "       [5.25609694e-04],\n",
       "       [1.69053441e-01],\n",
       "       [1.79522790e-01],\n",
       "       [3.83961994e-03],\n",
       "       [2.42571418e-04],\n",
       "       [5.19418757e-06],\n",
       "       [1.02806699e-01],\n",
       "       [3.07940573e-01],\n",
       "       [4.08919073e-01],\n",
       "       [1.19344471e-01],\n",
       "       [3.76976546e-01],\n",
       "       [4.42641933e-01],\n",
       "       [1.32903272e-01],\n",
       "       [3.27239355e-01],\n",
       "       [8.37327389e-04],\n",
       "       [5.66834086e-06],\n",
       "       [3.67566910e-05],\n",
       "       [8.45231582e-03],\n",
       "       [1.59206179e-01],\n",
       "       [2.88122580e-03],\n",
       "       [7.63183982e-06],\n",
       "       [2.86574228e-05],\n",
       "       [4.73147419e-02],\n",
       "       [4.79572371e-01],\n",
       "       [2.77292817e-01],\n",
       "       [3.01968717e-02],\n",
       "       [2.20588929e-01],\n",
       "       [6.81518945e-04],\n",
       "       [1.02256855e-05],\n",
       "       [3.73414903e-01],\n",
       "       [1.98853916e-06],\n",
       "       [3.31210886e-01],\n",
       "       [1.77182669e-01],\n",
       "       [1.56263150e-03],\n",
       "       [8.68065797e-04],\n",
       "       [4.42033145e-04],\n",
       "       [5.56592221e-02],\n",
       "       [2.01289928e-01],\n",
       "       [6.08246591e-02],\n",
       "       [1.31570571e-01],\n",
       "       [1.15214486e-01],\n",
       "       [6.77072502e-03],\n",
       "       [1.81695572e-01],\n",
       "       [2.29469430e-02],\n",
       "       [6.05643764e-02],\n",
       "       [1.16599010e-04],\n",
       "       [4.24660654e-01],\n",
       "       [1.38922089e-02],\n",
       "       [1.08223904e-01],\n",
       "       [8.91616638e-02],\n",
       "       [1.32659309e-04],\n",
       "       [4.42984968e-04],\n",
       "       [2.41315289e-01],\n",
       "       [2.64964026e-01],\n",
       "       [3.69938707e-01],\n",
       "       [4.21971876e-03],\n",
       "       [3.02708240e-02],\n",
       "       [5.03058616e-05],\n",
       "       [8.79090563e-03],\n",
       "       [3.55571718e-01],\n",
       "       [1.66752973e-02],\n",
       "       [8.93065130e-03],\n",
       "       [1.33187663e-03],\n",
       "       [5.41478714e-03],\n",
       "       [1.25001465e-05],\n",
       "       [5.27580027e-03],\n",
       "       [4.99965306e-01],\n",
       "       [8.04479246e-02],\n",
       "       [2.66747157e-06],\n",
       "       [2.66129307e-06],\n",
       "       [3.93045648e-01],\n",
       "       [2.09428645e-02],\n",
       "       [9.46986574e-03],\n",
       "       [3.90126753e-01],\n",
       "       [9.18400865e-05],\n",
       "       [1.64883861e-01],\n",
       "       [7.27087139e-05],\n",
       "       [3.79797553e-05],\n",
       "       [9.57141400e-02]])"
      ]
     },
     "execution_count": 303,
     "metadata": {},
     "output_type": "execute_result"
    }
   ],
   "source": [
    "z"
   ]
  },
  {
   "cell_type": "code",
   "execution_count": 174,
   "metadata": {},
   "outputs": [
    {
     "data": {
      "text/plain": [
       "(2000, 2000)"
      ]
     },
     "execution_count": 174,
     "metadata": {},
     "output_type": "execute_result"
    }
   ],
   "source": [
    "gp.kern.K(X).shape"
   ]
  },
  {
   "cell_type": "code",
   "execution_count": 277,
   "metadata": {},
   "outputs": [
    {
     "data": {
      "text/plain": [
       "array([[-2.10798546, -2.10798546]])"
      ]
     },
     "execution_count": 277,
     "metadata": {},
     "output_type": "execute_result"
    }
   ],
   "source": [
    "(X[0,0:]-b)"
   ]
  },
  {
   "cell_type": "code",
   "execution_count": 282,
   "metadata": {},
   "outputs": [
    {
     "data": {
      "text/plain": [
       "array([[5.24161968e-06, 0.00000000e+00],\n",
       "       [0.00000000e+00, 5.24161968e-06]])"
      ]
     },
     "execution_count": 282,
     "metadata": {},
     "output_type": "execute_result"
    }
   ],
   "source": [
    "np.linalg.inv(A+B)"
   ]
  },
  {
   "cell_type": "code",
   "execution_count": 285,
   "metadata": {},
   "outputs": [
    {
     "data": {
      "text/plain": [
       "array([[1., 0.],\n",
       "       [0., 1.]])"
      ]
     },
     "execution_count": 285,
     "metadata": {},
     "output_type": "execute_result"
    }
   ],
   "source": [
    "B"
   ]
  },
  {
   "cell_type": "code",
   "execution_count": null,
   "metadata": {},
   "outputs": [],
   "source": []
  }
 ],
 "metadata": {
  "kernelspec": {
   "display_name": "Python 2",
   "language": "python",
   "name": "python2"
  },
  "language_info": {
   "codemirror_mode": {
    "name": "ipython",
    "version": 2
   },
   "file_extension": ".py",
   "mimetype": "text/x-python",
   "name": "python",
   "nbconvert_exporter": "python",
   "pygments_lexer": "ipython2",
   "version": "2.7.15rc1"
  }
 },
 "nbformat": 4,
 "nbformat_minor": 2
}
