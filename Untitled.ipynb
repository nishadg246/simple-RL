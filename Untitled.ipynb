{
 "cells": [
  {
   "cell_type": "code",
   "execution_count": 1109,
   "metadata": {},
   "outputs": [],
   "source": [
    "import GPy\n",
    "import numpy as np\n",
    "from scipy.stats import multivariate_normal"
   ]
  },
  {
   "cell_type": "code",
   "execution_count": 1110,
   "metadata": {},
   "outputs": [
    {
     "name": "stdout",
     "output_type": "stream",
     "text": [
      "(100, 2) (100, 1)\n",
      "[-3.59474518 -1.65609917] [6.31305504e-05]\n"
     ]
    }
   ],
   "source": [
    "X= []\n",
    "y=[]\n",
    "dim = 2\n",
    "samples = 100\n",
    "X = np.random.uniform(-5,5,(samples,dim))\n",
    "# X = np.random.normal(scale=1,size=(samples,dim))\n",
    "mv = multivariate_normal([0.0, 0.0], [[1.0, 0.0], [0.0, 1.0]])\n",
    "F = lambda x: [mv.pdf(x)]\n",
    "# F = lambda x: [2.0]\n",
    "\n",
    "y = np.apply_along_axis(F, 1, X)\n",
    "print X.shape, y.shape\n",
    "print X[0],y[0]"
   ]
  },
  {
   "cell_type": "code",
   "execution_count": 1102,
   "metadata": {},
   "outputs": [],
   "source": [
    "k = GPy.kern.src.rbf.RBF(input_dim=dim)\n",
    "gp = GPy.models.GPRegression(X,y,kernel=k)\n",
    "# gp.optimize()\n",
    "\n",
    "A = gp.kern.lengthscale[0]*np.diag(np.ones(dim))\n",
    "Ainv = np.linalg.inv(A)\n",
    "\n",
    "B = 1.0*np.diag(np.ones(dim))\n",
    "b = np.ones((1,dim))\n",
    "I = np.identity(dim)\n",
    "K = gp.kern.K(X)\n",
    "K2 = gp.posterior.covariance\n",
    "Ky = K.copy()\n",
    "GPy.util.diag.add(Ky, 1.0*1e-8)\n",
    "Wi, LW, LWi, W_logdet =  GPy.util.linalg.pdinv(Ky)\n",
    "Kinv = np.linalg.inv(K)"
   ]
  },
  {
   "cell_type": "code",
   "execution_count": 1103,
   "metadata": {},
   "outputs": [],
   "source": [
    "# Derivation\n",
    "# def computeZ(X,i):\n",
    "#     x = X[i,:]\n",
    "#     lsq = gp.kern.lengthscale[0]\n",
    "#     w = gp.kern.variance[0]\n",
    "#     coeff = np.sqrt(lsq/(1.0+lsq))\n",
    "#     expo = np.exp(-x**2/(1.0+lsq)/2.0)\n",
    "#     return w*coeff*expo    \n",
    "def computeZ(X,i):\n",
    "    x = X[i,:]\n",
    "    lsq = gp.kern.lengthscale[0]\n",
    "    w = gp.kern.variance[0]\n",
    "    determ = np.linalg.det(np.dot(np.linalg.inv(A),B) + I)**(-0.5)\n",
    "    expon = np.exp(-0.5*np.dot(np.dot((x-b), np.linalg.inv(A+B)),(x-b).T))\n",
    "#     print expon.shape\n",
    "    return w*determ*expon\n",
    "\n",
    "z = np.zeros((X.shape[0],1))\n",
    "for i in range(X.shape[0]): \n",
    "    z[i,:] =computeZ(X,i)"
   ]
  },
  {
   "cell_type": "code",
   "execution_count": 1104,
   "metadata": {},
   "outputs": [],
   "source": [
    "def computeMean(z,Wi,y):\n",
    "    return np.dot(np.dot(z.T,Wi),y)[0][0]\n",
    "\n",
    "def computeVariance(z,Wi):\n",
    "    lsq = gp.kern.lengthscale[0]\n",
    "    w = gp.kern.variance[0]\n",
    "    determ = np.linalg.det(2*np.dot(np.linalg.inv(A),B) + I)**(-0.5)\n",
    "    return w*determ - np.dot(np.dot(z.T,Wi),z)"
   ]
  },
  {
   "cell_type": "code",
   "execution_count": 1105,
   "metadata": {},
   "outputs": [
    {
     "name": "stdout",
     "output_type": "stream",
     "text": [
      "mean of integral: 0.048264\n",
      "variance of integral: 0.000485\n"
     ]
    }
   ],
   "source": [
    "print \"mean of integral: %f\" % computeMean(z,Wi,y)\n",
    "\n",
    "print \"variance of integral: %f\" % computeVariance(z,Wi)\n"
   ]
  },
  {
   "cell_type": "code",
   "execution_count": 1106,
   "metadata": {},
   "outputs": [
    {
     "ename": "SyntaxError",
     "evalue": "invalid syntax (<ipython-input-1106-1746150a816e>, line 1)",
     "output_type": "error",
     "traceback": [
      "\u001b[0;36m  File \u001b[0;32m\"<ipython-input-1106-1746150a816e>\"\u001b[0;36m, line \u001b[0;32m1\u001b[0m\n\u001b[0;31m    000444gp.plot((-10,10))\u001b[0m\n\u001b[0m           ^\u001b[0m\n\u001b[0;31mSyntaxError\u001b[0m\u001b[0;31m:\u001b[0m invalid syntax\n"
     ]
    }
   ],
   "source": [
    "000444gp.plot((-10,10))"
   ]
  },
  {
   "cell_type": "code",
   "execution_count": 1028,
   "metadata": {},
   "outputs": [
    {
     "data": {
      "text/plain": [
       "array([[12228171.41275791]])"
      ]
     },
     "execution_count": 1028,
     "metadata": {},
     "output_type": "execute_result"
    }
   ],
   "source": [
    "A"
   ]
  },
  {
   "cell_type": "code",
   "execution_count": 1066,
   "metadata": {},
   "outputs": [
    {
     "data": {
      "text/html": [
       "<style type=\"text/css\">\n",
       ".pd{\n",
       "    font-family: \"Courier New\", Courier, monospace !important;\n",
       "    width: 100%;\n",
       "    padding: 3px;\n",
       "}\n",
       "</style>\n",
       "\n",
       "<p class=pd>\n",
       "<b>Model</b>: GP regression<br>\n",
       "<b>Objective</b>: 115.192018264<br>\n",
       "<b>Number of Parameters</b>: 3<br>\n",
       "<b>Number of Optimization Parameters</b>: 3<br>\n",
       "<b>Updates</b>: True<br>\n",
       "</p>\n",
       "<style type=\"text/css\">\n",
       ".tg  {font-family:\"Courier New\", Courier, monospace !important;padding:2px 3px;word-break:normal;border-collapse:collapse;border-spacing:0;border-color:#DCDCDC;margin:0px auto;width:100%;}\n",
       ".tg td{font-family:\"Courier New\", Courier, monospace !important;font-weight:bold;color:#444;background-color:#F7FDFA;border-style:solid;border-width:1px;overflow:hidden;word-break:normal;border-color:#DCDCDC;}\n",
       ".tg th{font-family:\"Courier New\", Courier, monospace !important;font-weight:normal;color:#fff;background-color:#26ADE4;border-style:solid;border-width:1px;overflow:hidden;word-break:normal;border-color:#DCDCDC;}\n",
       ".tg .tg-left{font-family:\"Courier New\", Courier, monospace !important;font-weight:normal;text-align:left;}\n",
       ".tg .tg-center{font-family:\"Courier New\", Courier, monospace !important;font-weight:normal;text-align:center;}\n",
       ".tg .tg-right{font-family:\"Courier New\", Courier, monospace !important;font-weight:normal;text-align:right;}\n",
       "</style>\n",
       "<table class=\"tg\"><tr><th><b>  GP_regression.         </b></th><th><b>value</b></th><th><b>constraints</b></th><th><b>priors</b></th></tr>\n",
       "<tr><td class=tg-left>  rbf.variance           </td><td class=tg-right>  1.0</td><td class=tg-center>    +ve    </td><td class=tg-center>      </td></tr>\n",
       "<tr><td class=tg-left>  rbf.lengthscale        </td><td class=tg-right>  1.0</td><td class=tg-center>    +ve    </td><td class=tg-center>      </td></tr>\n",
       "<tr><td class=tg-left>  Gaussian_noise.variance</td><td class=tg-right>  1.0</td><td class=tg-center>    +ve    </td><td class=tg-center>      </td></tr>\n",
       "</table>"
      ],
      "text/plain": [
       "<GPy.models.gp_regression.GPRegression at 0x1106f5a90>"
      ]
     },
     "execution_count": 1066,
     "metadata": {},
     "output_type": "execute_result"
    }
   ],
   "source": [
    "gp"
   ]
  },
  {
   "cell_type": "code",
   "execution_count": 857,
   "metadata": {},
   "outputs": [
    {
     "data": {
      "text/plain": [
       "0.15915494309189535"
      ]
     },
     "execution_count": 857,
     "metadata": {},
     "output_type": "execute_result"
    }
   ],
   "source": [
    "mv.pdf([0.0,0.0])"
   ]
  },
  {
   "cell_type": "code",
   "execution_count": null,
   "metadata": {},
   "outputs": [],
   "source": []
  }
 ],
 "metadata": {
  "kernelspec": {
   "display_name": "Python 2",
   "language": "python",
   "name": "python2"
  },
  "language_info": {
   "codemirror_mode": {
    "name": "ipython",
    "version": 2
   },
   "file_extension": ".py",
   "mimetype": "text/x-python",
   "name": "python",
   "nbconvert_exporter": "python",
   "pygments_lexer": "ipython2",
   "version": "2.7.10"
  }
 },
 "nbformat": 4,
 "nbformat_minor": 2
}
