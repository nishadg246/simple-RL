{
 "cells": [
  {
   "cell_type": "code",
<<<<<<< HEAD
   "execution_count": 20,
=======
   "execution_count": 208,
>>>>>>> 55b5a664ccb5b8fd4674402900f40befda9bd251
   "metadata": {},
   "outputs": [
    {
     "name": "stdout",
     "output_type": "stream",
     "text": [
<<<<<<< HEAD
      "(81, 2) (81, 1)\n",
      "(202, 2) (202, 1)\n",
      "(339, 2) (339, 1)\n",
      "(473, 2) (473, 1)\n",
      "(622, 2) (622, 1)\n",
      "(802, 2) (802, 1)\n",
      "(929, 2) (929, 1)\n",
      "(1080, 2) (1080, 1)\n",
      "(1180, 2) (1180, 1)\n",
      "(1274, 2) (1274, 1)\n",
      "(1390, 2) (1390, 1)\n",
      "(1483, 2) (1483, 1)\n",
      "(1617, 2) (1617, 1)\n",
      "(1719, 2) (1719, 1)\n",
      "(1846, 2) (1846, 1)\n",
      "(1934, 2) (1934, 1)\n",
      "(2025, 2) (2025, 1)\n",
      "(2132, 2) (2132, 1)\n",
      "(2254, 2) (2254, 1)\n",
      "(2347, 2) (2347, 1)\n",
      "(2451, 2) (2451, 1)\n",
      "(2540, 2) (2540, 1)\n",
      "(2640, 2) (2640, 1)\n",
      "(2719, 2) (2719, 1)\n",
      "(2818, 2) (2818, 1)\n",
      "(2916, 2) (2916, 1)\n",
      "(2992, 2) (2992, 1)\n",
      "(3080, 2) (3080, 1)\n",
      "(3214, 2) (3214, 1)\n",
      "(3312, 2) (3312, 1)\n",
      "(3397, 2) (3397, 1)\n",
      "(3477, 2) (3477, 1)\n",
      "(3569, 2) (3569, 1)\n",
      "(3677, 2) (3677, 1)\n",
      "(3785, 2) (3785, 1)\n",
      "(3894, 2) (3894, 1)\n",
      "(3969, 2) (3969, 1)\n",
      "(4081, 2) (4081, 1)\n",
      "(4157, 2) (4157, 1)\n",
      "(4254, 2) (4254, 1)\n",
      "(4346, 2) (4346, 1)\n",
      "(4461, 2) (4461, 1)\n",
      "(4562, 2) (4562, 1)\n",
      "(4661, 2) (4661, 1)\n",
      "(4770, 2) (4770, 1)\n",
      "(4841, 2) (4841, 1)\n",
      "(4938, 2) (4938, 1)\n",
      "(5024, 2) (5024, 1)\n",
      "(5116, 2) (5116, 1)\n",
      "(5219, 2) (5219, 1)\n"
=======
      "(62, 2) (62, 1)\n",
      "(201, 2) (201, 1)\n",
      "(382, 2) (382, 1)\n",
      "(452, 2) (452, 1)\n",
      "(567, 2) (567, 1)\n",
      "(675, 2) (675, 1)\n",
      "(786, 2) (786, 1)\n",
      "(858, 2) (858, 1)\n",
      "(941, 2) (941, 1)\n",
      "(1015, 2) (1015, 1)\n",
      "(1109, 2) (1109, 1)\n",
      "(1179, 2) (1179, 1)\n",
      "(1305, 2) (1305, 1)\n",
      "(1494, 2) (1494, 1)\n",
      "(1592, 2) (1592, 1)\n",
      "(1688, 2) (1688, 1)\n",
      "(1756, 2) (1756, 1)\n",
      "(1833, 2) (1833, 1)\n",
      "(1892, 2) (1892, 1)\n",
      "(2025, 2) (2025, 1)\n",
      "(2108, 2) (2108, 1)\n",
      "(2177, 2) (2177, 1)\n",
      "(2276, 2) (2276, 1)\n",
      "(2372, 2) (2372, 1)\n",
      "(2429, 2) (2429, 1)\n",
      "(2504, 2) (2504, 1)\n",
      "(2597, 2) (2597, 1)\n",
      "(2701, 2) (2701, 1)\n",
      "(2772, 2) (2772, 1)\n",
      "(2854, 2) (2854, 1)\n"
>>>>>>> 55b5a664ccb5b8fd4674402900f40befda9bd251
     ]
    },
    {
     "data": {
      "text/plain": [
       "<Figure size 432x288 with 0 Axes>"
      ]
     },
     "metadata": {},
     "output_type": "display_data"
    }
   ],
   "source": [
    "run \"gp_rtdp.py\""
   ]
  },
  {
   "cell_type": "code",
<<<<<<< HEAD
   "execution_count": 21,
=======
   "execution_count": 205,
>>>>>>> 55b5a664ccb5b8fd4674402900f40befda9bd251
   "metadata": {},
   "outputs": [
    {
     "name": "stdout",
     "output_type": "stream",
     "text": [
      "9783.434959334889\n"
     ]
    },
    {
     "data": {
<<<<<<< HEAD
      "image/png": "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\n",
=======
      "image/png": "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\n",
      "text/plain": [
       "<Figure size 432x288 with 1 Axes>"
      ]
     },
     "metadata": {},
     "output_type": "display_data"
    },
    {
     "data": {
      "image/png": "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\n",
>>>>>>> 55b5a664ccb5b8fd4674402900f40befda9bd251
      "text/plain": [
       "<matplotlib.figure.Figure at 0x113639590>"
      ]
     },
     "metadata": {},
     "output_type": "display_data"
    }
   ],
   "source": [
    "import matplotlib.pyplot as plt\n",
    "import matplotlib.colors as colors\n",
    "\n",
    "rx = [0,30]\n",
    "ry = [0,30]\n",
    "l=[]\n",
    "a = np.full((rx[1]-rx[0],ry[1]-ry[0]),0.0)\n",
    "for i in range(rx[0],rx[1]):\n",
    "    for j in range(ry[0],ry[1]):\n",
    "        temp =  p.VPGS[-1][0].predict(np.array([[i,j]]))[0][0][0]\n",
    "        a[i-rx[0],j-ry[0]] = temp\n",
    "        l.append(temp)\n",
    "print a.max()\n",
    "if a.min()< 0:\n",
    "    a += -(a.min())\n",
    "a+=.001\n",
    "plt.imshow(a, cmap='hot',  norm=colors.LogNorm(vmin=a.min(), vmax=a.max()), interpolation='nearest')\n",
    "# l =  p.VPGS[-1][1].keys()\n",
    "# pl.plot([i[0] for i in l], [i[1] for i in l], 'ro')\n",
    "plt.show()\n",
    "\n",
    "import matplotlib.pyplot as plt\n",
    "import numpy as np\n",
    "%matplotlib inline\n",
    "plt.hist(l,bins=1000)\n",
    "plt.ylabel('Probability');"
   ]
  },
  {
   "cell_type": "code",
<<<<<<< HEAD
   "execution_count": 18,
=======
   "execution_count": 194,
>>>>>>> 55b5a664ccb5b8fd4674402900f40befda9bd251
   "metadata": {},
   "outputs": [
    {
     "name": "stdout",
     "output_type": "stream",
     "text": [
<<<<<<< HEAD
      "3794.704736279315\n"
=======
      "9783.434959334889\n"
>>>>>>> 55b5a664ccb5b8fd4674402900f40befda9bd251
     ]
    }
   ],
   "source": [
    "# print p.VPGS[-1][1]\n",
    "print p.VPGS[-1][0].predict(np.array([[1.0,1.0]]))[0][0][0]"
   ]
  },
  {
   "cell_type": "code",
<<<<<<< HEAD
   "execution_count": 16,
   "metadata": {},
   "outputs": [
    {
     "ename": "KeyboardInterrupt",
     "evalue": "",
     "output_type": "error",
     "traceback": [
      "\u001b[0;31m---------------------------------------------------------------------------\u001b[0m",
      "\u001b[0;31mKeyboardInterrupt\u001b[0m                         Traceback (most recent call last)",
      "\u001b[0;32m<ipython-input-16-04bd7c01556e>\u001b[0m in \u001b[0;36m<module>\u001b[0;34m()\u001b[0m\n\u001b[0;32m----> 1\u001b[0;31m \u001b[0mpath\u001b[0m \u001b[0;34m=\u001b[0m \u001b[0mp\u001b[0m\u001b[0;34m.\u001b[0m\u001b[0mtestValueFunction\u001b[0m\u001b[0;34m(\u001b[0m\u001b[0mp\u001b[0m\u001b[0;34m.\u001b[0m\u001b[0mVPGS\u001b[0m\u001b[0;34m[\u001b[0m\u001b[0;34m-\u001b[0m\u001b[0;36m1\u001b[0m\u001b[0;34m]\u001b[0m\u001b[0;34m[\u001b[0m\u001b[0;36m0\u001b[0m\u001b[0;34m]\u001b[0m\u001b[0;34m,\u001b[0m\u001b[0;36m29.0\u001b[0m\u001b[0;34m,\u001b[0m\u001b[0;36m29.0\u001b[0m\u001b[0;34m,\u001b[0m\u001b[0;36m100\u001b[0m\u001b[0;34m)\u001b[0m\u001b[0;34m\u001b[0m\u001b[0m\n\u001b[0m",
      "\u001b[0;32m/Users/ngothosk/Documents/MIT/simple-rl/gp_rtdp.py\u001b[0m in \u001b[0;36mtestValueFunction\u001b[0;34m(self, V, x, y, n)\u001b[0m\n\u001b[1;32m    190\u001b[0m             \u001b[0mQ\u001b[0m \u001b[0;34m=\u001b[0m \u001b[0;34m{\u001b[0m\u001b[0;34m}\u001b[0m\u001b[0;34m\u001b[0m\u001b[0m\n\u001b[1;32m    191\u001b[0m             \u001b[0;32mfor\u001b[0m \u001b[0ma\u001b[0m \u001b[0;32min\u001b[0m \u001b[0mself\u001b[0m\u001b[0;34m.\u001b[0m\u001b[0msample_n\u001b[0m\u001b[0;34m(\u001b[0m\u001b[0;36m360\u001b[0m\u001b[0;34m)\u001b[0m\u001b[0;34m:\u001b[0m\u001b[0;34m\u001b[0m\u001b[0m\n\u001b[0;32m--> 192\u001b[0;31m                 \u001b[0mQ\u001b[0m\u001b[0;34m[\u001b[0m\u001b[0ma\u001b[0m\u001b[0;34m]\u001b[0m \u001b[0;34m=\u001b[0m \u001b[0mV\u001b[0m\u001b[0;34m.\u001b[0m\u001b[0mpredict\u001b[0m\u001b[0;34m(\u001b[0m\u001b[0mnp\u001b[0m\u001b[0;34m.\u001b[0m\u001b[0marray\u001b[0m\u001b[0;34m(\u001b[0m\u001b[0;34m[\u001b[0m\u001b[0mself\u001b[0m\u001b[0;34m.\u001b[0m\u001b[0mcomputeResult\u001b[0m\u001b[0;34m(\u001b[0m\u001b[0mx\u001b[0m\u001b[0;34m,\u001b[0m\u001b[0my\u001b[0m\u001b[0;34m,\u001b[0m\u001b[0ma\u001b[0m\u001b[0;34m)\u001b[0m\u001b[0;34m]\u001b[0m\u001b[0;34m)\u001b[0m\u001b[0;34m)\u001b[0m\u001b[0;34m[\u001b[0m\u001b[0;36m0\u001b[0m\u001b[0;34m]\u001b[0m\u001b[0;34m\u001b[0m\u001b[0m\n\u001b[0m\u001b[1;32m    193\u001b[0m             \u001b[0ma\u001b[0m \u001b[0;34m=\u001b[0m \u001b[0mmax\u001b[0m\u001b[0;34m(\u001b[0m\u001b[0mQ\u001b[0m\u001b[0;34m,\u001b[0m \u001b[0mkey\u001b[0m\u001b[0;34m=\u001b[0m\u001b[0mQ\u001b[0m\u001b[0;34m.\u001b[0m\u001b[0mget\u001b[0m\u001b[0;34m)\u001b[0m\u001b[0;34m\u001b[0m\u001b[0m\n\u001b[1;32m    194\u001b[0m             \u001b[0mx\u001b[0m\u001b[0;34m,\u001b[0m \u001b[0my\u001b[0m \u001b[0;34m=\u001b[0m \u001b[0mself\u001b[0m\u001b[0;34m.\u001b[0m\u001b[0mcomputeResult\u001b[0m\u001b[0;34m(\u001b[0m\u001b[0mx\u001b[0m\u001b[0;34m,\u001b[0m\u001b[0my\u001b[0m\u001b[0;34m,\u001b[0m\u001b[0ma\u001b[0m\u001b[0;34m)\u001b[0m\u001b[0;34m\u001b[0m\u001b[0m\n",
      "\u001b[0;32m/Users/ngothosk/Library/Python/2.7/lib/python/site-packages/GPy/core/gp.pyc\u001b[0m in \u001b[0;36mpredict\u001b[0;34m(self, Xnew, full_cov, Y_metadata, kern, likelihood, include_likelihood)\u001b[0m\n\u001b[1;32m    321\u001b[0m \u001b[0;34m\u001b[0m\u001b[0m\n\u001b[1;32m    322\u001b[0m         \u001b[0;31m# Predict the latent function values\u001b[0m\u001b[0;34m\u001b[0m\u001b[0;34m\u001b[0m\u001b[0m\n\u001b[0;32m--> 323\u001b[0;31m         \u001b[0mmean\u001b[0m\u001b[0;34m,\u001b[0m \u001b[0mvar\u001b[0m \u001b[0;34m=\u001b[0m \u001b[0mself\u001b[0m\u001b[0;34m.\u001b[0m\u001b[0m_raw_predict\u001b[0m\u001b[0;34m(\u001b[0m\u001b[0mXnew\u001b[0m\u001b[0;34m,\u001b[0m \u001b[0mfull_cov\u001b[0m\u001b[0;34m=\u001b[0m\u001b[0mfull_cov\u001b[0m\u001b[0;34m,\u001b[0m \u001b[0mkern\u001b[0m\u001b[0;34m=\u001b[0m\u001b[0mkern\u001b[0m\u001b[0;34m)\u001b[0m\u001b[0;34m\u001b[0m\u001b[0m\n\u001b[0m\u001b[1;32m    324\u001b[0m \u001b[0;34m\u001b[0m\u001b[0m\n\u001b[1;32m    325\u001b[0m         \u001b[0;32mif\u001b[0m \u001b[0minclude_likelihood\u001b[0m\u001b[0;34m:\u001b[0m\u001b[0;34m\u001b[0m\u001b[0m\n",
      "\u001b[0;32m/Users/ngothosk/Library/Python/2.7/lib/python/site-packages/GPy/core/gp.pyc\u001b[0m in \u001b[0;36m_raw_predict\u001b[0;34m(self, Xnew, full_cov, kern)\u001b[0m\n\u001b[1;32m    278\u001b[0m             \u001b[0;31m\\\u001b[0m\u001b[0mSigma\u001b[0m \u001b[0;34m:\u001b[0m\u001b[0;34m=\u001b[0m\u001b[0;31m \u001b[0m\u001b[0;31m\\\u001b[0m\u001b[0mtexttt\u001b[0m\u001b[0;34m{\u001b[0m\u001b[0mLikelihood\u001b[0m\u001b[0;34m.\u001b[0m\u001b[0mvariance\u001b[0m \u001b[0;34m/\u001b[0m \u001b[0mApproximate\u001b[0m \u001b[0mlikelihood\u001b[0m \u001b[0mcovariance\u001b[0m\u001b[0;34m}\u001b[0m\u001b[0;34m\u001b[0m\u001b[0m\n\u001b[1;32m    279\u001b[0m         \"\"\"\n\u001b[0;32m--> 280\u001b[0;31m         \u001b[0mmu\u001b[0m\u001b[0;34m,\u001b[0m \u001b[0mvar\u001b[0m \u001b[0;34m=\u001b[0m \u001b[0mself\u001b[0m\u001b[0;34m.\u001b[0m\u001b[0mposterior\u001b[0m\u001b[0;34m.\u001b[0m\u001b[0m_raw_predict\u001b[0m\u001b[0;34m(\u001b[0m\u001b[0mkern\u001b[0m\u001b[0;34m=\u001b[0m\u001b[0mself\u001b[0m\u001b[0;34m.\u001b[0m\u001b[0mkern\u001b[0m \u001b[0;32mif\u001b[0m \u001b[0mkern\u001b[0m \u001b[0;32mis\u001b[0m \u001b[0mNone\u001b[0m \u001b[0;32melse\u001b[0m \u001b[0mkern\u001b[0m\u001b[0;34m,\u001b[0m \u001b[0mXnew\u001b[0m\u001b[0;34m=\u001b[0m\u001b[0mXnew\u001b[0m\u001b[0;34m,\u001b[0m \u001b[0mpred_var\u001b[0m\u001b[0;34m=\u001b[0m\u001b[0mself\u001b[0m\u001b[0;34m.\u001b[0m\u001b[0m_predictive_variable\u001b[0m\u001b[0;34m,\u001b[0m \u001b[0mfull_cov\u001b[0m\u001b[0;34m=\u001b[0m\u001b[0mfull_cov\u001b[0m\u001b[0;34m)\u001b[0m\u001b[0;34m\u001b[0m\u001b[0m\n\u001b[0m\u001b[1;32m    281\u001b[0m         \u001b[0;32mif\u001b[0m \u001b[0mself\u001b[0m\u001b[0;34m.\u001b[0m\u001b[0mmean_function\u001b[0m \u001b[0;32mis\u001b[0m \u001b[0;32mnot\u001b[0m \u001b[0mNone\u001b[0m\u001b[0;34m:\u001b[0m\u001b[0;34m\u001b[0m\u001b[0m\n\u001b[1;32m    282\u001b[0m             \u001b[0mmu\u001b[0m \u001b[0;34m+=\u001b[0m \u001b[0mself\u001b[0m\u001b[0;34m.\u001b[0m\u001b[0mmean_function\u001b[0m\u001b[0;34m.\u001b[0m\u001b[0mf\u001b[0m\u001b[0;34m(\u001b[0m\u001b[0mXnew\u001b[0m\u001b[0;34m)\u001b[0m\u001b[0;34m\u001b[0m\u001b[0m\n",
      "\u001b[0;32m/Users/ngothosk/Library/Python/2.7/lib/python/site-packages/GPy/inference/latent_function_inference/posterior.pyc\u001b[0m in \u001b[0;36m_raw_predict\u001b[0;34m(self, kern, Xnew, pred_var, full_cov)\u001b[0m\n\u001b[1;32m    284\u001b[0m             \u001b[0mvar\u001b[0m \u001b[0;34m=\u001b[0m \u001b[0mvar\u001b[0m\u001b[0;34m\u001b[0m\u001b[0m\n\u001b[1;32m    285\u001b[0m         \u001b[0;32melse\u001b[0m\u001b[0;34m:\u001b[0m\u001b[0;34m\u001b[0m\u001b[0m\n\u001b[0;32m--> 286\u001b[0;31m             \u001b[0mKxx\u001b[0m \u001b[0;34m=\u001b[0m \u001b[0mkern\u001b[0m\u001b[0;34m.\u001b[0m\u001b[0mKdiag\u001b[0m\u001b[0;34m(\u001b[0m\u001b[0mXnew\u001b[0m\u001b[0;34m)\u001b[0m\u001b[0;34m\u001b[0m\u001b[0m\n\u001b[0m\u001b[1;32m    287\u001b[0m             \u001b[0;32mif\u001b[0m \u001b[0mself\u001b[0m\u001b[0;34m.\u001b[0m\u001b[0m_woodbury_chol\u001b[0m\u001b[0;34m.\u001b[0m\u001b[0mndim\u001b[0m \u001b[0;34m==\u001b[0m \u001b[0;36m2\u001b[0m\u001b[0;34m:\u001b[0m\u001b[0;34m\u001b[0m\u001b[0m\n\u001b[1;32m    288\u001b[0m                 \u001b[0mtmp\u001b[0m \u001b[0;34m=\u001b[0m \u001b[0mdtrtrs\u001b[0m\u001b[0;34m(\u001b[0m\u001b[0mself\u001b[0m\u001b[0;34m.\u001b[0m\u001b[0m_woodbury_chol\u001b[0m\u001b[0;34m,\u001b[0m \u001b[0mKx\u001b[0m\u001b[0;34m)\u001b[0m\u001b[0;34m[\u001b[0m\u001b[0;36m0\u001b[0m\u001b[0;34m]\u001b[0m\u001b[0;34m\u001b[0m\u001b[0m\n",
      "\u001b[0;32m/Users/ngothosk/Library/Python/2.7/lib/python/site-packages/GPy/kern/src/kernel_slice_operations.pyc\u001b[0m in \u001b[0;36mwrap\u001b[0;34m(self, X, *a, **kw)\u001b[0m\n\u001b[1;32m     91\u001b[0m     \u001b[0;34m@\u001b[0m\u001b[0mwraps\u001b[0m\u001b[0;34m(\u001b[0m\u001b[0mf\u001b[0m\u001b[0;34m)\u001b[0m\u001b[0;34m\u001b[0m\u001b[0m\n\u001b[1;32m     92\u001b[0m     \u001b[0;32mdef\u001b[0m \u001b[0mwrap\u001b[0m\u001b[0;34m(\u001b[0m\u001b[0mself\u001b[0m\u001b[0;34m,\u001b[0m \u001b[0mX\u001b[0m\u001b[0;34m,\u001b[0m \u001b[0;34m*\u001b[0m\u001b[0ma\u001b[0m\u001b[0;34m,\u001b[0m \u001b[0;34m**\u001b[0m\u001b[0mkw\u001b[0m\u001b[0;34m)\u001b[0m\u001b[0;34m:\u001b[0m\u001b[0;34m\u001b[0m\u001b[0m\n\u001b[0;32m---> 93\u001b[0;31m         \u001b[0;32mwith\u001b[0m \u001b[0m_Slice_wrap\u001b[0m\u001b[0;34m(\u001b[0m\u001b[0mself\u001b[0m\u001b[0;34m,\u001b[0m \u001b[0mX\u001b[0m\u001b[0;34m,\u001b[0m \u001b[0mNone\u001b[0m\u001b[0;34m)\u001b[0m \u001b[0;32mas\u001b[0m \u001b[0ms\u001b[0m\u001b[0;34m:\u001b[0m\u001b[0;34m\u001b[0m\u001b[0m\n\u001b[0m\u001b[1;32m     94\u001b[0m             \u001b[0mret\u001b[0m \u001b[0;34m=\u001b[0m \u001b[0mf\u001b[0m\u001b[0;34m(\u001b[0m\u001b[0mself\u001b[0m\u001b[0;34m,\u001b[0m \u001b[0ms\u001b[0m\u001b[0;34m.\u001b[0m\u001b[0mX\u001b[0m\u001b[0;34m,\u001b[0m \u001b[0;34m*\u001b[0m\u001b[0ma\u001b[0m\u001b[0;34m,\u001b[0m \u001b[0;34m**\u001b[0m\u001b[0mkw\u001b[0m\u001b[0;34m)\u001b[0m\u001b[0;34m\u001b[0m\u001b[0m\n\u001b[1;32m     95\u001b[0m         \u001b[0;32mreturn\u001b[0m \u001b[0mret\u001b[0m\u001b[0;34m\u001b[0m\u001b[0m\n",
      "\u001b[0;32m/Users/ngothosk/Library/Python/2.7/lib/python/site-packages/GPy/kern/src/kernel_slice_operations.pyc\u001b[0m in \u001b[0;36m__enter__\u001b[0;34m(self)\u001b[0m\n\u001b[1;32m     61\u001b[0m             \u001b[0mself\u001b[0m\u001b[0;34m.\u001b[0m\u001b[0mret\u001b[0m \u001b[0;34m=\u001b[0m \u001b[0mFalse\u001b[0m\u001b[0;34m\u001b[0m\u001b[0m\n\u001b[1;32m     62\u001b[0m     \u001b[0;32mdef\u001b[0m \u001b[0m__enter__\u001b[0m\u001b[0;34m(\u001b[0m\u001b[0mself\u001b[0m\u001b[0;34m)\u001b[0m\u001b[0;34m:\u001b[0m\u001b[0;34m\u001b[0m\u001b[0m\n\u001b[0;32m---> 63\u001b[0;31m         \u001b[0mself\u001b[0m\u001b[0;34m.\u001b[0m\u001b[0mk\u001b[0m\u001b[0;34m.\u001b[0m\u001b[0m_sliced_X\u001b[0m \u001b[0;34m+=\u001b[0m \u001b[0;36m1\u001b[0m\u001b[0;34m\u001b[0m\u001b[0m\n\u001b[0m\u001b[1;32m     64\u001b[0m         \u001b[0;32mreturn\u001b[0m \u001b[0mself\u001b[0m\u001b[0;34m\u001b[0m\u001b[0m\n\u001b[1;32m     65\u001b[0m     \u001b[0;32mdef\u001b[0m \u001b[0m__exit__\u001b[0m\u001b[0;34m(\u001b[0m\u001b[0mself\u001b[0m\u001b[0;34m,\u001b[0m \u001b[0;34m*\u001b[0m\u001b[0ma\u001b[0m\u001b[0;34m)\u001b[0m\u001b[0;34m:\u001b[0m\u001b[0;34m\u001b[0m\u001b[0m\n",
      "\u001b[0;32m/Users/ngothosk/Library/Python/2.7/lib/python/site-packages/paramz/parameterized.pyc\u001b[0m in \u001b[0;36m__setattr__\u001b[0;34m(self, name, val)\u001b[0m\n\u001b[1;32m    328\u001b[0m         \u001b[0;31m# override the default behaviour, if setting a param, so broadcasting can by used\u001b[0m\u001b[0;34m\u001b[0m\u001b[0;34m\u001b[0m\u001b[0m\n\u001b[1;32m    329\u001b[0m         \u001b[0;32mif\u001b[0m \u001b[0mhasattr\u001b[0m\u001b[0;34m(\u001b[0m\u001b[0mself\u001b[0m\u001b[0;34m,\u001b[0m \u001b[0;34m\"parameters\"\u001b[0m\u001b[0;34m)\u001b[0m\u001b[0;34m:\u001b[0m\u001b[0;34m\u001b[0m\u001b[0m\n\u001b[0;32m--> 330\u001b[0;31m             \u001b[0mpnames\u001b[0m \u001b[0;34m=\u001b[0m \u001b[0mself\u001b[0m\u001b[0;34m.\u001b[0m\u001b[0mparameter_names\u001b[0m\u001b[0;34m(\u001b[0m\u001b[0mFalse\u001b[0m\u001b[0;34m,\u001b[0m \u001b[0madjust_for_printing\u001b[0m\u001b[0;34m=\u001b[0m\u001b[0mTrue\u001b[0m\u001b[0;34m,\u001b[0m \u001b[0mrecursive\u001b[0m\u001b[0;34m=\u001b[0m\u001b[0mFalse\u001b[0m\u001b[0;34m)\u001b[0m\u001b[0;34m\u001b[0m\u001b[0m\n\u001b[0m\u001b[1;32m    331\u001b[0m             \u001b[0;32mif\u001b[0m \u001b[0mname\u001b[0m \u001b[0;32min\u001b[0m \u001b[0mpnames\u001b[0m\u001b[0;34m:\u001b[0m\u001b[0;34m\u001b[0m\u001b[0m\n\u001b[1;32m    332\u001b[0m                 \u001b[0mparam\u001b[0m \u001b[0;34m=\u001b[0m \u001b[0mself\u001b[0m\u001b[0;34m.\u001b[0m\u001b[0mparameters\u001b[0m\u001b[0;34m[\u001b[0m\u001b[0mpnames\u001b[0m\u001b[0;34m.\u001b[0m\u001b[0mindex\u001b[0m\u001b[0;34m(\u001b[0m\u001b[0mname\u001b[0m\u001b[0;34m)\u001b[0m\u001b[0;34m]\u001b[0m\u001b[0;34m\u001b[0m\u001b[0m\n",
      "\u001b[0;32m/Users/ngothosk/Library/Python/2.7/lib/python/site-packages/paramz/core/parameter_core.pyc\u001b[0m in \u001b[0;36mparameter_names\u001b[0;34m(self, add_self, adjust_for_printing, recursive, intermediate)\u001b[0m\n\u001b[1;32m    189\u001b[0m         \u001b[0mnames\u001b[0m \u001b[0;34m=\u001b[0m \u001b[0;34m[\u001b[0m\u001b[0;34m]\u001b[0m\u001b[0;34m\u001b[0m\u001b[0m\n\u001b[1;32m    190\u001b[0m         \u001b[0;32mif\u001b[0m \u001b[0mintermediate\u001b[0m \u001b[0;32mor\u001b[0m \u001b[0;34m(\u001b[0m\u001b[0;32mnot\u001b[0m \u001b[0mrecursive\u001b[0m\u001b[0;34m)\u001b[0m\u001b[0;34m:\u001b[0m\u001b[0;34m\u001b[0m\u001b[0m\n\u001b[0;32m--> 191\u001b[0;31m             \u001b[0mnames\u001b[0m\u001b[0;34m.\u001b[0m\u001b[0mextend\u001b[0m\u001b[0;34m(\u001b[0m\u001b[0;34m[\u001b[0m\u001b[0madjust\u001b[0m\u001b[0;34m(\u001b[0m\u001b[0mx\u001b[0m\u001b[0;34m.\u001b[0m\u001b[0mname\u001b[0m\u001b[0;34m)\u001b[0m \u001b[0;32mfor\u001b[0m \u001b[0mx\u001b[0m \u001b[0;32min\u001b[0m \u001b[0mself\u001b[0m\u001b[0;34m.\u001b[0m\u001b[0mparameters\u001b[0m\u001b[0;34m]\u001b[0m\u001b[0;34m)\u001b[0m\u001b[0;34m\u001b[0m\u001b[0m\n\u001b[0m\u001b[1;32m    192\u001b[0m         if intermediate or recursive: names.extend([\n\u001b[1;32m    193\u001b[0m                 \u001b[0mxi\u001b[0m \u001b[0;32mfor\u001b[0m \u001b[0mx\u001b[0m \u001b[0;32min\u001b[0m \u001b[0mself\u001b[0m\u001b[0;34m.\u001b[0m\u001b[0mparameters\u001b[0m \u001b[0;32mfor\u001b[0m \u001b[0mxi\u001b[0m \u001b[0;32min\u001b[0m\u001b[0;34m\u001b[0m\u001b[0m\n",
      "\u001b[0;32m/Users/ngothosk/Library/Python/2.7/lib/python/site-packages/paramz/core/nameable.pyc\u001b[0m in \u001b[0;36madjust_name_for_printing\u001b[0;34m(name)\u001b[0m\n\u001b[1;32m     37\u001b[0m     \u001b[0;32mif\u001b[0m \u001b[0mname\u001b[0m \u001b[0;32mis\u001b[0m \u001b[0;32mnot\u001b[0m \u001b[0mNone\u001b[0m\u001b[0;34m:\u001b[0m\u001b[0;34m\u001b[0m\u001b[0m\n\u001b[1;32m     38\u001b[0m         \u001b[0mname2\u001b[0m \u001b[0;34m=\u001b[0m \u001b[0mname\u001b[0m\u001b[0;34m\u001b[0m\u001b[0m\n\u001b[0;32m---> 39\u001b[0;31m         \u001b[0mname\u001b[0m \u001b[0;34m=\u001b[0m \u001b[0mname\u001b[0m\u001b[0;34m.\u001b[0m\u001b[0mreplace\u001b[0m\u001b[0;34m(\u001b[0m\u001b[0;34m\" \"\u001b[0m\u001b[0;34m,\u001b[0m \u001b[0;34m\"_\"\u001b[0m\u001b[0;34m)\u001b[0m\u001b[0;34m.\u001b[0m\u001b[0mreplace\u001b[0m\u001b[0;34m(\u001b[0m\u001b[0;34m\".\"\u001b[0m\u001b[0;34m,\u001b[0m \u001b[0;34m\"_\"\u001b[0m\u001b[0;34m)\u001b[0m\u001b[0;34m.\u001b[0m\u001b[0mreplace\u001b[0m\u001b[0;34m(\u001b[0m\u001b[0;34m\"-\"\u001b[0m\u001b[0;34m,\u001b[0m \u001b[0;34m\"_m_\"\u001b[0m\u001b[0;34m)\u001b[0m\u001b[0;34m\u001b[0m\u001b[0m\n\u001b[0m\u001b[1;32m     40\u001b[0m         \u001b[0mname\u001b[0m \u001b[0;34m=\u001b[0m \u001b[0mname\u001b[0m\u001b[0;34m.\u001b[0m\u001b[0mreplace\u001b[0m\u001b[0;34m(\u001b[0m\u001b[0;34m\"+\"\u001b[0m\u001b[0;34m,\u001b[0m \u001b[0;34m\"_p_\"\u001b[0m\u001b[0;34m)\u001b[0m\u001b[0;34m.\u001b[0m\u001b[0mreplace\u001b[0m\u001b[0;34m(\u001b[0m\u001b[0;34m\"!\"\u001b[0m\u001b[0;34m,\u001b[0m \u001b[0;34m\"_I_\"\u001b[0m\u001b[0;34m)\u001b[0m\u001b[0;34m\u001b[0m\u001b[0m\n\u001b[1;32m     41\u001b[0m         \u001b[0mname\u001b[0m \u001b[0;34m=\u001b[0m \u001b[0mname\u001b[0m\u001b[0;34m.\u001b[0m\u001b[0mreplace\u001b[0m\u001b[0;34m(\u001b[0m\u001b[0;34m\"**\"\u001b[0m\u001b[0;34m,\u001b[0m \u001b[0;34m\"_xx_\"\u001b[0m\u001b[0;34m)\u001b[0m\u001b[0;34m.\u001b[0m\u001b[0mreplace\u001b[0m\u001b[0;34m(\u001b[0m\u001b[0;34m\"*\"\u001b[0m\u001b[0;34m,\u001b[0m \u001b[0;34m\"_x_\"\u001b[0m\u001b[0;34m)\u001b[0m\u001b[0;34m\u001b[0m\u001b[0m\n",
      "\u001b[0;31mKeyboardInterrupt\u001b[0m: "
=======
   "execution_count": 195,
   "metadata": {},
   "outputs": [
    {
     "name": "stdout",
     "output_type": "stream",
     "text": [
      "57\n"
>>>>>>> 55b5a664ccb5b8fd4674402900f40befda9bd251
     ]
    }
   ],
   "source": [
    "path = p.testValueFunction(mine,29.0,29.0,100)"
   ]
  },
  {
   "cell_type": "code",
<<<<<<< HEAD
   "execution_count": 13,
=======
   "execution_count": 207,
>>>>>>> 55b5a664ccb5b8fd4674402900f40befda9bd251
   "metadata": {},
   "outputs": [
    {
     "data": {
<<<<<<< HEAD
      "image/png": "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\n",
=======
      "image/png": "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\n",
>>>>>>> 55b5a664ccb5b8fd4674402900f40befda9bd251
      "text/plain": [
       "<matplotlib.figure.Figure at 0x1142c7f90>"
      ]
     },
     "metadata": {},
     "output_type": "display_data"
    }
   ],
   "source": [
    "import numpy as np\n",
    "import pylab as pl\n",
    "from matplotlib import collections  as mc\n",
    "import matplotlib.patches as patches\n",
    "lines = []\n",
    "for i in xrange(len(path)-1):\n",
    "    lines.append([path[i],path[i+1]])\n",
    "\n",
    "rect = patches.Rectangle((5,5),5,20,linewidth=1,edgecolor='r',facecolor='none')\n",
    "rect2 = patches.Rectangle((15,10),10,5,linewidth=1,edgecolor='r',facecolor='none')\n",
    "rect3 = patches.Rectangle((20,20),5,5,linewidth=1,edgecolor='r',facecolor='none')\n",
    "\n",
    "\n",
    "lc = mc.LineCollection(lines,linewidths=2)\n",
    "fig, ax = pl.subplots()\n",
    "pl.plot([i[0] for i in path], [i[1] for i in path], 'ro')\n",
    "ax.add_patch(rect)\n",
    "ax.add_patch(rect2)\n",
    "ax.add_patch(rect3)\n",
    "ax.add_collection(lc)\n",
    "ax.autoscale()\n",
    "ax.invert_yaxis()\n",
    "ax.margins(0.1)"
   ]
  },
  {
   "cell_type": "code",
   "execution_count": 59,
   "metadata": {},
   "outputs": [],
   "source": []
  },
  {
   "cell_type": "code",
   "execution_count": 65,
   "metadata": {},
   "outputs": [
    {
     "ename": "ImportError",
     "evalue": "No module named shapely",
     "output_type": "error",
     "traceback": [
      "\u001b[0;31m--------------------------------------\u001b[0m",
      "\u001b[0;31mImportError\u001b[0mTraceback (most recent call last)",
      "\u001b[0;32m<ipython-input-65-06fe9478d3da>\u001b[0m in \u001b[0;36m<module>\u001b[0;34m()\u001b[0m\n\u001b[0;32m----> 1\u001b[0;31m \u001b[0;32mimport\u001b[0m \u001b[0mshapely\u001b[0m\u001b[0;34m\u001b[0m\u001b[0m\n\u001b[0m",
      "\u001b[0;31mImportError\u001b[0m: No module named shapely"
     ]
    }
   ],
   "source": [
    "import shapely"
   ]
  },
  {
   "cell_type": "code",
   "execution_count": 144,
   "metadata": {},
   "outputs": [
    {
     "data": {
      "image/png": "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\n",
      "text/plain": [
       "<Figure size 432x288 with 1 Axes>"
      ]
     },
     "metadata": {},
     "output_type": "display_data"
    }
   ],
   "source": [
    "import matplotlib.pyplot as plt\n",
    "import matplotlib.colors as colors\n",
    "D= {}\n",
    "D[(1.0,1.0)] = 10000.0\n",
    "D[(2.0,2.0)] = 9000.0\n",
    "gp, _, _ = p.GPFromDict(D)\n",
    "\n",
    "rx = [0,30]\n",
    "ry = [0,30]\n",
    "a = np.full((rx[1]-rx[0],ry[1]-ry[0]),0.0)\n",
    "for i in range(rx[0],rx[1]):\n",
    "    for j in range(ry[0],ry[1]):\n",
    "        a[i-rx[0],j-ry[0]] = gp.predict(np.array([[i,j]]))[0][0][0]\n",
    "if a.min()< 0:\n",
    "    a += -(a.min())\n",
    "a+=.001\n",
    "plt.imshow(a, cmap='hot',  norm=colors.LogNorm(vmin=a.min(), vmax=a.max()), interpolation='nearest')\n",
    "# l =  p.VPGS[-1][1].keys()\n",
    "# pl.plot([i[0] for i in l], [i[1] for i in l], 'ro')\n",
    "plt.show()"
   ]
  },
  {
   "cell_type": "code",
   "execution_count": 147,
   "metadata": {},
   "outputs": [
    {
     "data": {
      "text/plain": [
       "5294.321313010477"
      ]
     },
     "execution_count": 147,
     "metadata": {},
     "output_type": "execute_result"
    }
   ],
   "source": [
    "gp.predict(np.array([[2.0,2.0]]))[0][0][0]"
   ]
  },
  {
   "cell_type": "code",
   "execution_count": null,
   "metadata": {},
   "outputs": [],
   "source": []
  }
 ],
 "metadata": {
  "kernelspec": {
   "display_name": "Python 2",
   "language": "python",
   "name": "python2"
  },
  "language_info": {
   "codemirror_mode": {
    "name": "ipython",
    "version": 2
   },
   "file_extension": ".py",
   "mimetype": "text/x-python",
   "name": "python",
   "nbconvert_exporter": "python",
   "pygments_lexer": "ipython2",
   "version": "2.7.10"
  }
 },
 "nbformat": 4,
 "nbformat_minor": 2
}
