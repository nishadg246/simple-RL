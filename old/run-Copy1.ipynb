{
 "cells": [
  {
   "cell_type": "code",
   "execution_count": 7,
   "metadata": {},
   "outputs": [
    {
     "name": "stdout",
     "output_type": "stream",
     "text": [
      "iter 0\n",
      "(312, 2) (312, 1)\n",
      "iter 1\n",
      "(312, 2) (312, 1)\n",
      "iter 2\n",
      "(312, 2) (312, 1)\n",
      "iter 3\n",
      "(312, 2) (312, 1)\n",
      "iter 4\n",
      "(312, 2) (312, 1)\n",
      "iter 5\n",
      "(312, 2) (312, 1)\n",
      "iter 6\n",
      "(312, 2) (312, 1)\n",
      "iter 7\n",
      "(312, 2) (312, 1)\n",
      "iter 8\n",
      "(312, 2) (312, 1)\n",
      "iter 9\n",
      "(312, 2) (312, 1)\n",
      "iter 10\n",
      "(312, 2) (312, 1)\n",
      "iter 11\n",
      "(312, 2) (312, 1)\n",
      "iter 12\n",
      "(312, 2) (312, 1)\n",
      "iter 13\n",
      "(312, 2) (312, 1)\n",
      "iter 14\n",
      "(312, 2) (312, 1)\n",
      "iter 15\n",
      "(312, 2) (312, 1)\n",
      "iter 16\n",
      "(312, 2) (312, 1)\n",
      "iter 17\n",
      "(312, 2) (312, 1)\n",
      "iter 18\n",
      "(312, 2) (312, 1)\n",
      "iter 19\n",
      "(312, 2) (312, 1)\n",
      "iter 20\n",
      "(312, 2) (312, 1)\n",
      "iter 21\n",
      "(312, 2) (312, 1)\n",
      "iter 22\n",
      "(312, 2) (312, 1)\n",
      "iter 23\n",
      "(312, 2) (312, 1)\n",
      "iter 24\n",
      "(312, 2) (312, 1)\n",
      "iter 25\n",
      "(312, 2) (312, 1)\n",
      "iter 26\n",
      "(312, 2) (312, 1)\n",
      "iter 27\n",
      "(312, 2) (312, 1)\n",
      "iter 28\n",
      "(312, 2) (312, 1)\n",
      "iter 29\n",
      "(312, 2) (312, 1)\n",
      "iter 30\n",
      "(312, 2) (312, 1)\n",
      "iter 31\n",
      "(312, 2) (312, 1)\n",
      "iter 32\n",
      "(312, 2) (312, 1)\n",
      "iter 33\n",
      "(312, 2) (312, 1)\n",
      "iter 34\n",
      "(312, 2) (312, 1)\n",
      "iter 35\n",
      "(312, 2) (312, 1)\n",
      "iter 36\n",
      "(312, 2) (312, 1)\n",
      "iter 37\n",
      "(312, 2) (312, 1)\n",
      "iter 38\n",
      "(312, 2) (312, 1)\n",
      "iter 39\n",
      "(312, 2) (312, 1)\n",
      "iter 40\n",
      "(312, 2) (312, 1)\n",
      "iter 41\n",
      "(312, 2) (312, 1)\n",
      "iter 42\n",
      "(312, 2) (312, 1)\n",
      "iter 43\n",
      "(312, 2) (312, 1)\n",
      "iter 44\n",
      "(312, 2) (312, 1)\n",
      "iter 45\n",
      "(312, 2) (312, 1)\n",
      "iter 46\n",
      "(312, 2) (312, 1)\n",
      "iter 47\n",
      "(312, 2) (312, 1)\n",
      "iter 48\n",
      "(312, 2) (312, 1)\n",
      "iter 49\n",
      "(312, 2) (312, 1)\n"
     ]
    }
   ],
   "source": [
    "run \"main_gp_bo.py\""
   ]
  },
  {
   "cell_type": "code",
   "execution_count": 8,
   "metadata": {},
   "outputs": [
    {
     "data": {
      "image/png": "[encoded data removed]",
      "text/plain": [
       "<Figure size 432x288 with 1 Axes>"
      ]
     },
     "metadata": {},
     "output_type": "display_data"
    }
   ],
   "source": [
    "import matplotlib.pyplot as plt\n",
    "import matplotlib.colors as colors\n",
    "\n",
    "rx = [0,30]\n",
    "ry = [0,30]\n",
    "a = np.full((rx[1]-rx[0],ry[1]-ry[0]),0.0)\n",
    "for i in range(rx[0],rx[1]):\n",
    "    for j in range(ry[0],ry[1]):\n",
    "        a[i-rx[0],j-ry[0]] = valueFunc.predict(np.array([[i,j]]))[0][0][0]\n",
    "if a.min()< 0:\n",
    "    a += -(a.min())\n",
    "a+=.001\n",
    "plt.imshow(a, cmap='hot',  norm=colors.LogNorm(vmin=a.min(), vmax=a.max()), interpolation='nearest')\n",
    "# l =  p.VPGS[-1][1].keys()\n",
    "# pl.plot([i[0] for i in l], [i[1] for i in l], 'ro')\n",
    "plt.show()"
   ]
  },
  {
   "cell_type": "code",
   "execution_count": 157,
   "metadata": {},
   "outputs": [
    {
     "name": "stdout",
     "output_type": "stream",
     "text": [
      "1211.6623938576358\n"
     ]
    }
   ],
   "source": [
    "# print p.VPGS[-1][1]\n",
    "print p.VPGS[-1][0].predict(np.array([[1.0,1.0]]))[0][0][0]"
   ]
  },
  {
   "cell_type": "code",
   "execution_count": 16,
   "metadata": {},
   "outputs": [
    {
     "name": "stdout",
     "output_type": "stream",
     "text": [
      "25.0 0.0\n",
      "25.132556721 0.991175421267\n",
      "24.1480693127 1.16663066613\n",
      "23.9328114588 2.14318791295\n",
      "23.5223745934 3.05507693005\n",
      "23.9983905482 3.93451357403\n",
      "23.4545210792 4.77368340232\n",
      "22.6057181623 5.30239278207\n",
      "21.6070503523 5.25079234366\n",
      "20.8307543382 5.88116088549\n",
      "20.6181857217 6.85830702773\n",
      "20.0598937476 6.02866248235\n",
      "19.2170177114 5.49055469793\n",
      "18.338983854 5.96915321992\n",
      "17.3438027596 5.87109920792\n",
      "16.4904120664 6.39237104175\n",
      "15.4938701088 6.47546211723\n",
      "14.7369277607 7.12894377849\n",
      "13.7739927134 6.85921040133\n",
      "13.2324483482 6.01853822947\n",
      "12.3334922422 5.58049951031\n",
      "11.3335063578 5.58581279351\n",
      "10.3456296428 5.43057234831\n",
      "10.3456296428 5.43057234831\n",
      "9.45069476846 4.98437556349\n",
      "9.45069476846 4.98437556349\n",
      "8.55830919345 4.5331018267\n",
      "8.55830919345 4.5331018267\n",
      "8.12711230448 3.63084396836\n",
      "7.15242240972 3.40728277081\n",
      "6.35696541341 4.01329280952\n",
      "5.56555251064 4.62457475537\n",
      "4.83791653786 3.93861127885\n",
      "4.99783307209 2.95148073932\n",
      "4.18587349154 3.53519440161\n",
      "3.3548450294 2.97896450749\n",
      "2.36618995182 3.12916816118\n",
      "2.10208089847 2.16467533698\n",
      "1.54626496991 1.33336994571\n",
      "2.18278612885 0.562110706399\n",
      "1.40227421884 1.18725161719\n",
      "2.38203310156 1.38743286439\n",
      "1.45693408364 1.76715882748\n",
      "1.87449862578 0.858511561958\n",
      "1.5104544842 1.7898932576\n",
      "0.861035897375 1.02946213049\n",
      "1.47525096703 1.81860080538\n",
      "0.617629233957 1.30431978983\n",
      "1.5551230435 1.65232173964\n",
      "2.23643932061 0.920332579514\n",
      "1.66319818777 0.10094585542\n",
      "0.744312838696 0.495470525436\n",
      "0.744312838696 0.495470525436\n",
      "0.11044448103 1.26891147674\n",
      "0.925923088958 1.84769869153\n",
      "1.74587329799 1.27526384397\n",
      "1.25882476236 2.14863874854\n",
      "1.06382698856 1.1678350637\n",
      "1.9739032447 1.58227590148\n",
      "0.984688116344 1.72874579544\n",
      "1.72537860075 1.05689937972\n",
      "0.987050241985 1.7313408039\n",
      "1.90351007591 1.33121410796\n",
      "0.922060158337 1.1394954096\n",
      "1.92194433835 1.15471469226\n",
      "1.40289899379 2.00946139761\n",
      "1.27769663045 1.01733017231\n",
      "2.25177447034 0.791117082887\n",
      "1.75080719834 1.65658331122\n",
      "1.27754096836 0.775663862255\n",
      "0.441826104258 1.32482746803\n",
      "1.2799875351 1.87024970433\n",
      "2.24818776685 1.62007314419\n",
      "1.37690880978 2.11086126443\n",
      "1.18877862541 1.12871716414\n",
      "1.47942872085 2.08554657528\n",
      "1.51921011554 1.08633816827\n",
      "2.34889644921 1.64456803823\n",
      "2.71139636358 0.712584233601\n",
      "1.8204043887 1.16660328683\n"
     ]
    }
   ],
   "source": [
    "path = p.testValueFunction(valueFunc,25.0,0.0,80)"
   ]
  },
  {
   "cell_type": "code",
   "execution_count": 17,
   "metadata": {},
   "outputs": [
    {
     "data": {
      "image/png": "[encoded data removed]",
      "text/plain": [
       "<Figure size 432x288 with 1 Axes>"
      ]
     },
     "metadata": {},
     "output_type": "display_data"
    }
   ],
   "source": [
    "import numpy as np\n",
    "import pylab as pl\n",
    "from matplotlib import collections  as mc\n",
    "import matplotlib.patches as patches\n",
    "lines = []\n",
    "for i in xrange(len(path)-1):\n",
    "    lines.append([path[i],path[i+1]])\n",
    "\n",
    "rect = patches.Rectangle((5,5),5,20,linewidth=1,edgecolor='r',facecolor='none')\n",
    "rect2 = patches.Rectangle((15,10),10,5,linewidth=1,edgecolor='r',facecolor='none')\n",
    "rect3 = patches.Rectangle((20,20),5,5,linewidth=1,edgecolor='r',facecolor='none')\n",
    "\n",
    "\n",
    "lc = mc.LineCollection(lines,linewidths=2)\n",
    "fig, ax = pl.subplots()\n",
    "# pl.plot([i[0] for i in l], [i[1] for i in l], 'ro')\n",
    "ax.add_patch(rect)\n",
    "ax.add_patch(rect2)\n",
    "ax.add_patch(rect3)\n",
    "ax.add_collection(lc)\n",
    "ax.autoscale()\n",
    "ax.invert_yaxis()\n",
    "ax.margins(0.1)"
   ]
  },
  {
   "cell_type": "code",
   "execution_count": 59,
   "metadata": {},
   "outputs": [],
   "source": []
  },
  {
   "cell_type": "code",
   "execution_count": 65,
   "metadata": {},
   "outputs": [
    {
     "ename": "ImportError",
     "evalue": "No module named shapely",
     "output_type": "error",
     "traceback": [
      "\u001b[0;31m--------------------------------------\u001b[0m",
      "\u001b[0;31mImportError\u001b[0mTraceback (most recent call last)",
      "\u001b[0;32m<ipython-input-65-06fe9478d3da>\u001b[0m in \u001b[0;36m<module>\u001b[0;34m()\u001b[0m\n\u001b[0;32m----> 1\u001b[0;31m \u001b[0;32mimport\u001b[0m \u001b[0mshapely\u001b[0m\u001b[0;34m\u001b[0m\u001b[0m\n\u001b[0m",
      "\u001b[0;31mImportError\u001b[0m: No module named shapely"
     ]
    }
   ],
   "source": [
    "import shapely"
   ]
  },
  {
   "cell_type": "code",
   "execution_count": 144,
   "metadata": {},
   "outputs": [
    {
     "data": {
      "image/png": "[encoded data removed]",
      "text/plain": [
       "<Figure size 432x288 with 1 Axes>"
      ]
     },
     "metadata": {},
     "output_type": "display_data"
    }
   ],
   "source": [
    "import matplotlib.pyplot as plt\n",
    "import matplotlib.colors as colors\n",
    "D= {}\n",
    "D[(1.0,1.0)] = 10000.0\n",
    "D[(2.0,2.0)] = 9000.0\n",
    "gp, _, _ = p.GPFromDict(D)\n",
    "\n",
    "rx = [0,30]\n",
    "ry = [0,30]\n",
    "a = np.full((rx[1]-rx[0],ry[1]-ry[0]),0.0)\n",
    "for i in range(rx[0],rx[1]):\n",
    "    for j in range(ry[0],ry[1]):\n",
    "        a[i-rx[0],j-ry[0]] = gp.predict(np.array([[i,j]]))[0][0][0]\n",
    "if a.min()< 0:\n",
    "    a += -(a.min())\n",
    "a+=.001\n",
    "plt.imshow(a, cmap='hot',  norm=colors.LogNorm(vmin=a.min(), vmax=a.max()), interpolation='nearest')\n",
    "# l =  p.VPGS[-1][1].keys()\n",
    "# pl.plot([i[0] for i in l], [i[1] for i in l], 'ro')\n",
    "plt.show()"
   ]
  },
  {
   "cell_type": "code",
   "execution_count": 147,
   "metadata": {},
   "outputs": [
    {
     "data": {
      "text/plain": [
       "5294.321313010477"
      ]
     },
     "execution_count": 147,
     "metadata": {},
     "output_type": "execute_result"
    }
   ],
   "source": [
    "gp.predict(np.array([[2.0,2.0]]))[0][0][0]"
   ]
  },
  {
   "cell_type": "code",
   "execution_count": null,
   "metadata": {},
   "outputs": [],
   "source": []
  }
 ],
 "metadata": {
  "kernelspec": {
   "display_name": "Python 2",
   "language": "python",
   "name": "python2"
  },
  "language_info": {
   "codemirror_mode": {
    "name": "ipython",
    "version": 2
   },
   "file_extension": ".py",
   "mimetype": "text/x-python",
   "name": "python",
   "nbconvert_exporter": "python",
   "pygments_lexer": "ipython2",
   "version": "2.7.12"
  }
 },
 "nbformat": 4,
 "nbformat_minor": 2
}
