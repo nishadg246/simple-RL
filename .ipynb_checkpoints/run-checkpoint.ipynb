{
 "cells": [
  {
   "cell_type": "code",
   "execution_count": 167,
   "metadata": {},
   "outputs": [
    {
     "name": "stdout",
     "output_type": "stream",
     "text": [
      "iter 0\n",
      "(361, 2) (361, 1)\n",
      "iter 1\n",
      "(361, 2) (361, 1)\n",
      "iter 2\n",
      "(361, 2) (361, 1)\n",
      "iter 3\n",
      "(361, 2) (361, 1)\n",
      "iter 4\n",
      "(361, 2) (361, 1)\n",
      "iter 5\n",
      "(361, 2) (361, 1)\n",
      "iter 6\n",
      "(361, 2) (361, 1)\n",
      "iter 7\n",
      "(361, 2) (361, 1)\n",
      "iter 8\n",
      "(361, 2) (361, 1)\n",
      "iter 9\n",
      "(361, 2) (361, 1)\n",
      "iter 10\n",
      "(361, 2) (361, 1)\n",
      "iter 11\n",
      "(361, 2) (361, 1)\n",
      "iter 12\n",
      "(361, 2) (361, 1)\n",
      "iter 13\n",
      "(361, 2) (361, 1)\n",
      "iter 14\n",
      "(361, 2) (361, 1)\n",
      "iter 15\n",
      "(361, 2) (361, 1)\n",
      "iter 16\n",
      "(361, 2) (361, 1)\n",
      "iter 17\n",
      "(361, 2) (361, 1)\n",
      "iter 18\n",
      "(361, 2) (361, 1)\n",
      "iter 19\n",
      "(361, 2) (361, 1)\n",
      "iter 20\n",
      "(361, 2) (361, 1)\n",
      "iter 21\n",
      "(361, 2) (361, 1)\n",
      "iter 22\n",
      "(361, 2) (361, 1)\n",
      "iter 23\n",
      "(361, 2) (361, 1)\n",
      "iter 24\n",
      "(361, 2) (361, 1)\n",
      "iter 25\n",
      "(361, 2) (361, 1)\n",
      "iter 26\n",
      "(361, 2) (361, 1)\n",
      "iter 27\n",
      "(361, 2) (361, 1)\n",
      "iter 28\n",
      "(361, 2) (361, 1)\n",
      "iter 29\n",
      "(361, 2) (361, 1)\n",
      "(64, 2) (64, 1)\n",
      "(127, 2) (127, 1)\n",
      "(216, 2) (216, 1)\n",
      "(303, 2) (303, 1)\n",
      "(380, 2) (380, 1)\n",
      "(465, 2) (465, 1)\n",
      "(541, 2) (541, 1)\n",
      "(620, 2) (620, 1)\n",
      "(697, 2) (697, 1)\n",
      "(775, 2) (775, 1)\n",
      "(838, 2) (838, 1)\n",
      "(910, 2) (910, 1)\n",
      "(977, 2) (977, 1)\n",
      "(1049, 2) (1049, 1)\n",
      "(1119, 2) (1119, 1)\n",
      "(1194, 2) (1194, 1)\n",
      "(1258, 2) (1258, 1)\n",
      "(1332, 2) (1332, 1)\n",
      "(1409, 2) (1409, 1)\n",
      "(1480, 2) (1480, 1)\n"
     ]
    }
   ],
   "source": [
    "run \"gp_rtdp.py\""
   ]
  },
  {
   "cell_type": "code",
   "execution_count": 168,
   "metadata": {},
   "outputs": [
    {
     "data": {
      "image/png": "[encoded data removed]",
      "text/plain": [
       "<Figure size 432x288 with 1 Axes>"
      ]
     },
     "metadata": {},
     "output_type": "display_data"
    }
   ],
   "source": [
    "import matplotlib.pyplot as plt\n",
    "import matplotlib.colors as colors\n",
    "\n",
    "rx = [0,30]\n",
    "ry = [0,30]\n",
    "a = np.full((rx[1]-rx[0],ry[1]-ry[0]),0.0)\n",
    "for i in range(rx[0],rx[1]):\n",
    "    for j in range(ry[0],ry[1]):\n",
    "        a[i-rx[0],j-ry[0]] = p.VPGS[-1][0].predict(np.array([[i,j]]))[0][0][0]\n",
    "if a.min()< 0:\n",
    "    a += -(a.min())\n",
    "a+=.001\n",
    "plt.imshow(a, cmap='hot',  norm=colors.LogNorm(vmin=a.min(), vmax=a.max()), interpolation='nearest')\n",
    "# l =  p.VPGS[-1][1].keys()\n",
    "# pl.plot([i[0] for i in l], [i[1] for i in l], 'ro')\n",
    "plt.show()"
   ]
  },
  {
   "cell_type": "code",
   "execution_count": 157,
   "metadata": {},
   "outputs": [
    {
     "name": "stdout",
     "output_type": "stream",
     "text": [
      "1211.6623938576358\n"
     ]
    }
   ],
   "source": [
    "# print p.VPGS[-1][1]\n",
    "print p.VPGS[-1][0].predict(np.array([[1.0,1.0]]))[0][0][0]"
   ]
  },
  {
   "cell_type": "code",
   "execution_count": 169,
   "metadata": {},
   "outputs": [],
   "source": [
    "path = p.testValueFunction(p.VPGS[-1][0],29.0,29.0,100)"
   ]
  },
  {
   "cell_type": "code",
   "execution_count": 170,
   "metadata": {},
   "outputs": [
    {
     "data": {
      "image/png": "[encoded data removed]",
      "text/plain": [
       "<Figure size 432x288 with 1 Axes>"
      ]
     },
     "metadata": {},
     "output_type": "display_data"
    }
   ],
   "source": [
    "import numpy as np\n",
    "import pylab as pl\n",
    "from matplotlib import collections  as mc\n",
    "import matplotlib.patches as patches\n",
    "lines = []\n",
    "for i in xrange(len(path)-1):\n",
    "    lines.append([path[i],path[i+1]])\n",
    "\n",
    "rect = patches.Rectangle((5,5),5,20,linewidth=1,edgecolor='r',facecolor='none')\n",
    "rect2 = patches.Rectangle((15,10),10,5,linewidth=1,edgecolor='r',facecolor='none')\n",
    "rect3 = patches.Rectangle((20,20),5,5,linewidth=1,edgecolor='r',facecolor='none')\n",
    "\n",
    "\n",
    "lc = mc.LineCollection(lines,linewidths=2)\n",
    "fig, ax = pl.subplots()\n",
    "# pl.plot([i[0] for i in l], [i[1] for i in l], 'ro')\n",
    "ax.add_patch(rect)\n",
    "ax.add_patch(rect2)\n",
    "ax.add_patch(rect3)\n",
    "ax.add_collection(lc)\n",
    "ax.autoscale()\n",
    "ax.invert_yaxis()\n",
    "ax.margins(0.1)"
   ]
  },
  {
   "cell_type": "code",
   "execution_count": 59,
   "metadata": {},
   "outputs": [],
   "source": []
  },
  {
   "cell_type": "code",
   "execution_count": 65,
   "metadata": {},
   "outputs": [
    {
     "ename": "ImportError",
     "evalue": "No module named shapely",
     "output_type": "error",
     "traceback": [
      "\u001b[0;31m--------------------------------------\u001b[0m",
      "\u001b[0;31mImportError\u001b[0mTraceback (most recent call last)",
      "\u001b[0;32m<ipython-input-65-06fe9478d3da>\u001b[0m in \u001b[0;36m<module>\u001b[0;34m()\u001b[0m\n\u001b[0;32m----> 1\u001b[0;31m \u001b[0;32mimport\u001b[0m \u001b[0mshapely\u001b[0m\u001b[0;34m\u001b[0m\u001b[0m\n\u001b[0m",
      "\u001b[0;31mImportError\u001b[0m: No module named shapely"
     ]
    }
   ],
   "source": [
    "import shapely"
   ]
  },
  {
   "cell_type": "code",
   "execution_count": 144,
   "metadata": {},
   "outputs": [
    {
     "data": {
      "image/png": "[encoded data removed]",
      "text/plain": [
       "<Figure size 432x288 with 1 Axes>"
      ]
     },
     "metadata": {},
     "output_type": "display_data"
    }
   ],
   "source": [
    "import matplotlib.pyplot as plt\n",
    "import matplotlib.colors as colors\n",
    "D= {}\n",
    "D[(1.0,1.0)] = 10000.0\n",
    "D[(2.0,2.0)] = 9000.0\n",
    "gp, _, _ = p.GPFromDict(D)\n",
    "\n",
    "rx = [0,30]\n",
    "ry = [0,30]\n",
    "a = np.full((rx[1]-rx[0],ry[1]-ry[0]),0.0)\n",
    "for i in range(rx[0],rx[1]):\n",
    "    for j in range(ry[0],ry[1]):\n",
    "        a[i-rx[0],j-ry[0]] = gp.predict(np.array([[i,j]]))[0][0][0]\n",
    "if a.min()< 0:\n",
    "    a += -(a.min())\n",
    "a+=.001\n",
    "plt.imshow(a, cmap='hot',  norm=colors.LogNorm(vmin=a.min(), vmax=a.max()), interpolation='nearest')\n",
    "# l =  p.VPGS[-1][1].keys()\n",
    "# pl.plot([i[0] for i in l], [i[1] for i in l], 'ro')\n",
    "plt.show()"
   ]
  },
  {
   "cell_type": "code",
   "execution_count": 147,
   "metadata": {},
   "outputs": [
    {
     "data": {
      "text/plain": [
       "5294.321313010477"
      ]
     },
     "execution_count": 147,
     "metadata": {},
     "output_type": "execute_result"
    }
   ],
   "source": [
    "gp.predict(np.array([[2.0,2.0]]))[0][0][0]"
   ]
  },
  {
   "cell_type": "code",
   "execution_count": null,
   "metadata": {},
   "outputs": [],
   "source": []
  }
 ],
 "metadata": {
  "kernelspec": {
   "display_name": "Python 2",
   "language": "python",
   "name": "python2"
  },
  "language_info": {
   "codemirror_mode": {
    "name": "ipython",
    "version": 2
   },
   "file_extension": ".py",
   "mimetype": "text/x-python",
   "name": "python",
   "nbconvert_exporter": "python",
   "pygments_lexer": "ipython2",
   "version": "2.7.12"
  }
 },
 "nbformat": 4,
 "nbformat_minor": 2
}
