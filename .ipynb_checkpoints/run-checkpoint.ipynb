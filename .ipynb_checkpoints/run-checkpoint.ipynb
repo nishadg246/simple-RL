{
 "cells": [
  {
   "cell_type": "code",
   "execution_count": 1,
   "metadata": {},
   "outputs": [
    {
     "name": "stdout",
     "output_type": "stream",
     "text": [
      "(58, 2) (58, 1)\n",
      "(152, 2) (152, 1)\n",
      "(222, 2) (222, 1)\n",
      "(314, 2) (314, 1)\n",
      "(383, 2) (383, 1)\n",
      "(453, 2) (453, 1)\n",
      "(544, 2) (544, 1)\n",
      "(645, 2) (645, 1)\n",
      "(723, 2) (723, 1)\n",
      "(788, 2) (788, 1)\n",
      "(850, 2) (850, 1)\n",
      "(961, 2) (961, 1)\n",
      "(1044, 2) (1044, 1)\n",
      "(1148, 2) (1148, 1)\n",
      "(1233, 2) (1233, 1)\n",
      "(1304, 2) (1304, 1)\n",
      "(1395, 2) (1395, 1)\n",
      "(1504, 2) (1504, 1)\n",
      "(1576, 2) (1576, 1)\n",
      "(1647, 2) (1647, 1)\n",
      "(1720, 2) (1720, 1)\n",
      "(1772, 2) (1772, 1)\n",
      "(1841, 2) (1841, 1)\n",
      "(1922, 2) (1922, 1)\n",
      "(2016, 2) (2016, 1)\n",
      "(2086, 2) (2086, 1)\n",
      "(2151, 2) (2151, 1)\n",
      "(2227, 2) (2227, 1)\n",
      "(2306, 2) (2306, 1)\n",
      "(2376, 2) (2376, 1)\n"
     ]
    }
   ],
   "source": [
    "run \"gp_rtdp.py\""
   ]
  },
  {
   "cell_type": "code",
   "execution_count": 4,
   "metadata": {},
   "outputs": [
    {
     "data": {
      "image/png": "[encoded data removed]",
      "text/plain": [
       "<matplotlib.figure.Figure at 0x1109c0ed0>"
      ]
     },
     "metadata": {},
     "output_type": "display_data"
    }
   ],
   "source": [
    "import matplotlib.pyplot as plt\n",
    "import matplotlib.colors as colors\n",
    "\n",
    "rx = [0,30]\n",
    "ry = [0,30]\n",
    "a = np.full((rx[1]-rx[0],ry[1]-ry[0]),0.0)\n",
    "for i in range(rx[0],rx[1]):\n",
    "    for j in range(ry[0],ry[1]):\n",
    "        a[i-rx[0],j-ry[0]] = p.VPGS[1][0].predict(np.array([[i,j]]))[0][0][0]\n",
    "if a.min()< 0:\n",
    "    a += -(a.min())\n",
    "a+=.001\n",
    "plt.imshow(a, cmap='hot',  norm=colors.LogNorm(vmin=a.min(), vmax=a.max()), interpolation='nearest')\n",
    "# l =  p.VPGS[-1][1].keys()\n",
    "# pl.plot([i[0] for i in l], [i[1] for i in l], 'ro')\n",
    "plt.show()"
   ]
  },
  {
   "cell_type": "code",
   "execution_count": 6,
   "metadata": {},
   "outputs": [
    {
     "name": "stdout",
     "output_type": "stream",
     "text": [
      "9469.824055673269\n"
     ]
    }
   ],
   "source": [
    "# print p.VPGS[-1][1]\n",
    "print p.VPGS[-1][0].predict(np.array([[1.0,1.0]]))[0][0][0]"
   ]
  },
  {
   "cell_type": "code",
   "execution_count": 7,
   "metadata": {},
   "outputs": [
    {
     "name": "stdout",
     "output_type": "stream",
     "text": [
      "46\n"
     ]
    }
   ],
   "source": [
    "path = p.testValueFunction(p.VPGS[-1][0],29.0,29.0,65)"
   ]
  },
  {
   "cell_type": "code",
   "execution_count": 8,
   "metadata": {},
   "outputs": [
    {
     "data": {
      "image/png": "[encoded data removed]",
      "text/plain": [
       "<matplotlib.figure.Figure at 0x110553ed0>"
      ]
     },
     "metadata": {},
     "output_type": "display_data"
    }
   ],
   "source": [
    "import numpy as np\n",
    "import pylab as pl\n",
    "from matplotlib import collections  as mc\n",
    "import matplotlib.patches as patches\n",
    "lines = []\n",
    "for i in xrange(len(path)-1):\n",
    "    lines.append([path[i],path[i+1]])\n",
    "\n",
    "rect = patches.Rectangle((5,5),5,20,linewidth=1,edgecolor='r',facecolor='none')\n",
    "rect2 = patches.Rectangle((15,10),10,5,linewidth=1,edgecolor='r',facecolor='none')\n",
    "rect3 = patches.Rectangle((20,20),5,5,linewidth=1,edgecolor='r',facecolor='none')\n",
    "\n",
    "\n",
    "lc = mc.LineCollection(lines,linewidths=2)\n",
    "fig, ax = pl.subplots()\n",
    "# pl.plot([i[0] for i in l], [i[1] for i in l], 'ro')\n",
    "ax.add_patch(rect)\n",
    "ax.add_patch(rect2)\n",
    "ax.add_patch(rect3)\n",
    "ax.add_collection(lc)\n",
    "ax.autoscale()\n",
    "ax.invert_yaxis()\n",
    "ax.margins(0.1)"
   ]
  },
  {
   "cell_type": "code",
   "execution_count": 59,
   "metadata": {},
   "outputs": [],
   "source": []
  },
  {
   "cell_type": "code",
   "execution_count": 65,
   "metadata": {},
   "outputs": [
    {
     "ename": "ImportError",
     "evalue": "No module named shapely",
     "output_type": "error",
     "traceback": [
      "\u001b[0;31m--------------------------------------\u001b[0m",
      "\u001b[0;31mImportError\u001b[0mTraceback (most recent call last)",
      "\u001b[0;32m<ipython-input-65-06fe9478d3da>\u001b[0m in \u001b[0;36m<module>\u001b[0;34m()\u001b[0m\n\u001b[0;32m----> 1\u001b[0;31m \u001b[0;32mimport\u001b[0m \u001b[0mshapely\u001b[0m\u001b[0;34m\u001b[0m\u001b[0m\n\u001b[0m",
      "\u001b[0;31mImportError\u001b[0m: No module named shapely"
     ]
    }
   ],
   "source": [
    "import shapely"
   ]
  },
  {
   "cell_type": "code",
   "execution_count": 144,
   "metadata": {},
   "outputs": [
    {
     "data": {
      "image/png": "[encoded data removed]",
      "text/plain": [
       "<Figure size 432x288 with 1 Axes>"
      ]
     },
     "metadata": {},
     "output_type": "display_data"
    }
   ],
   "source": [
    "import matplotlib.pyplot as plt\n",
    "import matplotlib.colors as colors\n",
    "D= {}\n",
    "D[(1.0,1.0)] = 10000.0\n",
    "D[(2.0,2.0)] = 9000.0\n",
    "gp, _, _ = p.GPFromDict(D)\n",
    "\n",
    "rx = [0,30]\n",
    "ry = [0,30]\n",
    "a = np.full((rx[1]-rx[0],ry[1]-ry[0]),0.0)\n",
    "for i in range(rx[0],rx[1]):\n",
    "    for j in range(ry[0],ry[1]):\n",
    "        a[i-rx[0],j-ry[0]] = gp.predict(np.array([[i,j]]))[0][0][0]\n",
    "if a.min()< 0:\n",
    "    a += -(a.min())\n",
    "a+=.001\n",
    "plt.imshow(a, cmap='hot',  norm=colors.LogNorm(vmin=a.min(), vmax=a.max()), interpolation='nearest')\n",
    "# l =  p.VPGS[-1][1].keys()\n",
    "# pl.plot([i[0] for i in l], [i[1] for i in l], 'ro')\n",
    "plt.show()"
   ]
  },
  {
   "cell_type": "code",
   "execution_count": 147,
   "metadata": {},
   "outputs": [
    {
     "data": {
      "text/plain": [
       "5294.321313010477"
      ]
     },
     "execution_count": 147,
     "metadata": {},
     "output_type": "execute_result"
    }
   ],
   "source": [
    "gp.predict(np.array([[2.0,2.0]]))[0][0][0]"
   ]
  },
  {
   "cell_type": "code",
   "execution_count": null,
   "metadata": {},
   "outputs": [],
   "source": []
  }
 ],
 "metadata": {
  "kernelspec": {
   "display_name": "Python 2",
   "language": "python",
   "name": "python2"
  },
  "language_info": {
   "codemirror_mode": {
    "name": "ipython",
    "version": 2
   },
   "file_extension": ".py",
   "mimetype": "text/x-python",
   "name": "python",
   "nbconvert_exporter": "python",
   "pygments_lexer": "ipython2",
   "version": "2.7.10"
  }
 },
 "nbformat": 4,
 "nbformat_minor": 2
}
